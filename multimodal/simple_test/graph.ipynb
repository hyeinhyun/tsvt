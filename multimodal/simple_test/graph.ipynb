{
 "cells": [
  {
   "cell_type": "code",
   "execution_count": 8,
   "metadata": {
    "collapsed": true
   },
   "outputs": [],
   "source": [
    "import pickle\n",
    "with open('/home/ubuntu/hyein/tsvt/multimodal/lstm/오디오(H)+채팅/result_total.pickle','rb') as f:\n",
    "    audiochat = pickle.load(f)"
   ]
  },
  {
   "cell_type": "code",
   "execution_count": 2,
   "metadata": {
    "collapsed": true
   },
   "outputs": [],
   "source": [
    "import pickle\n",
    "with open('/home/ubuntu/hyein/tsvt/multimodal/lstm/output/result.pickle','rb') as f:\n",
    "    output = pickle.load(f)"
   ]
  },
  {
   "cell_type": "code",
   "execution_count": 3,
   "metadata": {
    "collapsed": true
   },
   "outputs": [],
   "source": [
    "import pickle\n",
    "with open('/home/ubuntu/hyein/tsvt/multimodal/lstm/2step/result.pickle','rb') as f:\n",
    "    step = pickle.load(f)"
   ]
  },
  {
   "cell_type": "code",
   "execution_count": 9,
   "metadata": {
    "collapsed": true
   },
   "outputs": [],
   "source": [
    "with open('/home/ubuntu/hyein/tsvt/multimodal/label/label.pickle','rb') as f:\n",
    "    label = pickle.load(f)"
   ]
  },
  {
   "cell_type": "code",
   "execution_count": 10,
   "metadata": {
    "collapsed": true
   },
   "outputs": [],
   "source": [
    "import numpy as np"
   ]
  },
  {
   "cell_type": "code",
   "execution_count": 11,
   "metadata": {
    "scrolled": false
   },
   "outputs": [
    {
     "name": "stdout",
     "output_type": "stream",
     "text": [
      "precision : 0.2792452830188679, recall : 0.19733333333333333, f1 : 0.23125, accuracy : 0.7025392986698912\n",
      "102844235753356742\n",
      "precision : 0.5339805825242718, recall : 0.6610576923076923, f1 : 0.5907626208378087, accuracy : 0.8079637096774194\n",
      "102844294666422466\n",
      "precision : 0.453781512605042, recall : 0.6183206106870229, f1 : 0.5234248788368336, accuracy : 0.8113810741687979\n",
      "102844341906256529\n",
      "precision : 0.5313531353135313, recall : 0.7612293144208038, f1 : 0.6258503401360545, accuracy : 0.8348348348348348\n",
      "102979081290790284\n",
      "precision : 0.6206896551724138, recall : 0.3364485981308411, f1 : 0.4363636363636364, accuracy : 0.8241965973534972\n",
      "102844212430271695\n",
      "precision : 0.5767634854771784, recall : 0.7830985915492957, f1 : 0.6642771804062125, accuracy : 0.861097380128522\n",
      "102844401155937960\n",
      "precision : 0.5903225806451613, recall : 0.8472222222222222, f1 : 0.6958174904942965, accuracy : 0.8783269961977186\n",
      "102844412704496937\n",
      "precision : 0.4148264984227129, recall : 0.7690058479532164, f1 : 0.5389344262295082, accuracy : 0.7825036249395844\n",
      "102844412722519367\n",
      "precision : 0.19346049046321526, recall : 0.09957924263674614, f1 : 0.13148148148148148, accuracy : 0.6286619160728424\n",
      "102844235749031358\n",
      "precision : 0.41030927835051545, recall : 0.6180124223602484, f1 : 0.4931846344485749, accuracy : 0.7801075268817205\n",
      "102844412709674293\n",
      "precision : 0.49889135254988914, recall : 0.8893280632411067, f1 : 0.6392045454545455, accuracy : 0.8811973807296539\n",
      "102844341902586509\n",
      "precision : 0.5112781954887218, recall : 0.24548736462093862, f1 : 0.33170731707317075, accuracy : 0.8361244019138756\n",
      "102844235750997440\n",
      "precision : 0.5596026490066225, recall : 0.5348101265822784, f1 : 0.546925566343042, accuracy : 0.881406183820415\n",
      "102844212431975640\n",
      "precision : 0.466403162055336, recall : 0.34911242603550297, f1 : 0.3993231810490694, accuracy : 0.7478693181818182\n",
      "102844294667995333\n",
      "precision : 0.46130952380952384, recall : 0.7635467980295566, f1 : 0.575139146567718, accuracy : 0.8844018172640081\n",
      "102844341912220311\n",
      "precision : 0.2534562211981567, recall : 0.25229357798165136, f1 : 0.2528735632183908, accuracy : 0.7606774668630338\n",
      "102844235747261881\n",
      "precision : 0.17216117216117216, recall : 0.10352422907488987, f1 : 0.12929848693259974, accuracy : 0.7298335467349552\n",
      "102844294670551241\n",
      "precision : 0.5370843989769821, recall : 0.5982905982905983, f1 : 0.5660377358490566, accuracy : 0.8500931098696461\n",
      "102844412707708209\n",
      "precision : 0.4070175438596491, recall : 0.4915254237288136, f1 : 0.4452975047984645, accuracy : 0.8762312633832976\n",
      "102844212430599377\n",
      "precision : 0.5342465753424658, recall : 0.7027027027027027, f1 : 0.6070038910505837, accuracy : 0.8206039076376554\n",
      "102844224145685626\n",
      "precision : 0.6666666666666666, recall : 0.481994459833795, f1 : 0.5594855305466239, accuracy : 0.8101178101178101\n",
      "102844401152857762\n",
      "precision : 0.5111821086261981, recall : 0.7283763277693475, f1 : 0.6007509386733416, accuracy : 0.7812821391840933\n",
      "102844341908026005\n",
      "precision : 0.5553571428571429, recall : 0.5593525179856115, f1 : 0.557347670250896, accuracy : 0.7888888888888889\n",
      "102844341909598870\n",
      "precision : 0.2932692307692308, recall : 0.30198019801980197, f1 : 0.29756097560975614, accuracy : 0.6089613034623218\n",
      "102844283023599703\n",
      "precision : 0.260233918128655, recall : 0.22646310432569974, f1 : 0.24217687074829933, accuracy : 0.7486462093862816\n",
      "102844235753749959\n",
      "precision : 0.6309226932668329, recall : 0.8108974358974359, f1 : 0.7096774193548387, accuracy : 0.8785923753665689\n",
      "102844294670026952\n",
      "precision : 0.5543071161048689, recall : 0.7531806615776081, f1 : 0.6386192017259977, accuracy : 0.8530057042562528\n",
      "102844212430075086\n",
      "precision : 0.22328548644338117, recall : 0.40816326530612246, f1 : 0.28865979381443296, accuracy : 0.6132286995515696\n",
      "102844283027531868\n",
      "precision : 0.5280095351609059, recall : 0.6712121212121213, f1 : 0.5910607071380921, accuracy : 0.8388114646331843\n",
      "102844212430927059\n",
      "precision : 0.9041666666666667, recall : 0.5695538057742782, f1 : 0.6988727858293077, accuracy : 0.895937673900946\n",
      "102844212429419722\n",
      "precision : 0.6925675675675675, recall : 0.43803418803418803, f1 : 0.5366492146596858, accuracy : 0.8640552995391705\n",
      "102844283025696858\n",
      "precision : 0.4410377358490566, recall : 0.7333333333333333, f1 : 0.5508100147275404, accuracy : 0.7900894700619409\n",
      "102844224146472059\n",
      "precision : 0.5957943925233645, recall : 0.8095238095238095, f1 : 0.686406460296097, accuracy : 0.7762842054728757\n",
      "102844412712164667\n",
      "precision : 0.432, recall : 0.8526315789473684, f1 : 0.5734513274336283, accuracy : 0.8643781654473832\n",
      "102844401153971877\n",
      "precision : 0.4064748201438849, recall : 0.23739495798319327, f1 : 0.2997347480106101, accuracy : 0.7206349206349206\n",
      "102844235748310460\n",
      "precision : 0.5677749360613811, recall : 0.7816901408450704, f1 : 0.6577777777777779, accuracy : 0.8641975308641975\n",
      "102844412711116088\n",
      "precision : 0.21390374331550802, recall : 0.17777777777777778, f1 : 0.19417475728155342, accuracy : 0.8490222828558436\n",
      "102844235752111555\n",
      "precision : 0.7318840579710145, recall : 0.396078431372549, f1 : 0.5139949109414758, accuracy : 0.8644909542390918\n",
      "102844283020453971\n",
      "precision : 0.42718446601941745, recall : 0.25958702064896755, f1 : 0.3229357798165138, accuracy : 0.7699501246882793\n",
      "102844294666881219\n",
      "precision : 0.29471544715447157, recall : 0.36069651741293535, f1 : 0.3243847874720358, accuracy : 0.7361293141109655\n",
      "102844401152267937\n",
      "precision : 0.5655172413793104, recall : 0.6630727762803235, f1 : 0.6104218362282878, accuracy : 0.8465298142717498\n",
      "102844212429944013\n",
      "precision : 0.40955631399317405, recall : 0.729483282674772, f1 : 0.5245901639344263, accuracy : 0.7880116959064327\n",
      "102844294671796427\n",
      "precision : 0.5286624203821656, recall : 0.5203761755485894, f1 : 0.5244865718799369, accuracy : 0.845957011258956\n",
      "102844401151874719\n",
      "precision : 0.5613207547169812, recall : 0.6611111111111111, f1 : 0.6071428571428572, accuracy : 0.785614849187935\n",
      "102844412723567946\n",
      "precision : 0.23444976076555024, recall : 0.3828125, f1 : 0.29080118694362017, accuracy : 0.6567735758736237\n",
      "102844294669568199\n",
      "precision : 0.4685408299866131, recall : 0.831353919239905, f1 : 0.5993150684931506, accuracy : 0.8239277652370203\n",
      "102844412709346612\n",
      "precision : 0.7142857142857143, recall : 0.390625, f1 : 0.505050505050505, accuracy : 0.8784722222222222\n",
      "102844212431779031\n",
      "precision : 0.549800796812749, recall : 0.720626631853786, f1 : 0.623728813559322, accuracy : 0.8591966173361523\n",
      "102844212430402768\n",
      "precision : 0.699017199017199, recall : 0.8392330383480826, f1 : 0.7627345844504022, accuracy : 0.8608490566037735\n",
      "102844412711443769\n",
      "precision : 0.2445414847161572, recall : 0.12844036697247707, f1 : 0.16842105263157892, accuracy : 0.7560652845169828\n",
      "102844283027925085\n",
      "precision : 0.22012578616352202, recall : 0.30523255813953487, f1 : 0.2557856272838002, accuracy : 0.6917255297679112\n",
      "102844235746868664\n",
      "precision : 0.5365853658536586, recall : 0.8011204481792717, f1 : 0.6426966292134831, accuracy : 0.8264192139737991\n",
      "102844283023206486\n",
      "precision : 0.5489795918367347, recall : 0.7430939226519337, f1 : 0.631455399061033, accuracy : 0.8364583333333333\n",
      "102844401154168486\n",
      "precision : 0.43846153846153846, recall : 0.5643564356435643, f1 : 0.4935064935064935, accuracy : 0.8410326086956522\n",
      "102844212429550795\n",
      "precision : 0.5210084033613446, recall : 0.6940298507462687, f1 : 0.5952000000000001, accuracy : 0.80234375\n",
      "102844341907370644\n",
      "precision : 0.5282167042889391, recall : 0.75, f1 : 0.6198675496688741, accuracy : 0.8419603524229075\n",
      "102844412721339716\n",
      "precision : 0.5543859649122806, recall : 0.6810344827586207, f1 : 0.6112185686653773, accuracy : 0.8897421832144816\n",
      "102844294667405508\n",
      "precision : 0.7723577235772358, recall : 0.7851239669421488, f1 : 0.778688524590164, accuracy : 0.9055944055944056\n",
      "102844294674876621\n",
      "precision : 0.259946949602122, recall : 0.33676975945017185, f1 : 0.29341317365269465, accuracy : 0.7973379132674968\n",
      "102844212429288649\n",
      "precision : 0.3147410358565737, recall : 0.37089201877934275, f1 : 0.3405172413793104, accuracy : 0.8147699757869249\n",
      "102844401154430631\n",
      "precision : 0.5400763358778626, recall : 0.8250728862973761, f1 : 0.6528258362168397, accuracy : 0.842077649527807\n",
      "102844412717014335\n",
      "precision : 0.5813953488372093, recall : 0.6773399014778325, f1 : 0.6257110352673494, accuracy : 0.8413693346190936\n",
      "102844224148503678\n",
      "precision : 0.4498567335243553, recall : 0.6181102362204725, f1 : 0.5207296849087895, accuracy : 0.8129449838187702\n",
      "102844412711836986\n",
      "precision : 0.5425867507886435, recall : 0.5375, f1 : 0.5400313971742543, accuracy : 0.841792656587473\n",
      "102844401156069033\n",
      "precision : 0.6530172413793104, recall : 0.851123595505618, f1 : 0.7390243902439023, accuracy : 0.9025500910746812\n",
      "102844294670878922\n",
      "precision : 0.5981481481481481, recall : 0.8197969543147208, f1 : 0.6916488222698072, accuracy : 0.8644705882352941\n",
      "102844341904683662\n",
      "precision : 0.6370558375634517, recall : 0.8175895765472313, f1 : 0.7161198288159771, accuracy : 0.9040963855421686\n",
      "102844412704890154\n",
      "precision : 0.21893491124260356, recall : 0.17535545023696683, f1 : 0.19473684210526315, accuracy : 0.7372262773722628\n",
      "102844235746082230\n",
      "precision : 0.47113594040968343, recall : 0.6487179487179487, f1 : 0.5458468176914779, accuracy : 0.7667590027700831\n",
      "102844224148896895\n",
      "precision : 0.4175824175824176, recall : 0.6927083333333334, f1 : 0.5210577864838394, accuracy : 0.8172645739910314\n",
      "102844294674286796\n",
      "precision : 0.4576659038901602, recall : 0.7246376811594203, f1 : 0.5610098176718092, accuracy : 0.8477626459143969\n",
      "102844412708953395\n",
      "precision : 0.21428571428571427, recall : 0.07894736842105263, f1 : 0.11538461538461539, accuracy : 0.8603238866396761\n",
      "102844235751390657\n",
      "precision : 0.4166666666666667, recall : 0.6117021276595744, f1 : 0.49568965517241376, accuracy : 0.8859093125304729\n",
      "102844212428895431\n",
      "precision : 0.43778110944527737, recall : 0.8588235294117647, f1 : 0.579940417080437, accuracy : 0.7785340314136125\n",
      "102844412717407552\n",
      "precision : 0.6171875, recall : 0.45664739884393063, f1 : 0.5249169435215947, accuracy : 0.8729453576188361\n",
      "102844212429092040\n",
      "precision : 0.6120218579234973, recall : 0.717948717948718, f1 : 0.6607669616519175, accuracy : 0.8572315332091869\n",
      "102844412707380528\n",
      "precision : 0.4748603351955307, recall : 0.5279503105590062, f1 : 0.5, accuracy : 0.7873227689741451\n",
      "102844212430730450\n",
      "precision : 0.5320088300220751, recall : 0.7774193548387097, f1 : 0.6317169069462647, accuracy : 0.846782988004362\n",
      "102844224147717245\n",
      "precision : 0.53276955602537, recall : 0.8600682593856656, f1 : 0.6579634464751958, accuracy : 0.8498567335243553\n",
      "102844412716227901\n",
      "precision : 0.49627791563275436, recall : 0.5249343832020997, f1 : 0.5102040816326532, accuracy : 0.8441558441558441\n",
      "102844212431058132\n",
      "precision : 0.6683673469387755, recall : 0.7690802348336595, f1 : 0.7151956323930847, accuracy : 0.8278327832783279\n",
      "102844412710001974\n",
      "precision : 0.5010570824524313, recall : 0.7247706422018348, f1 : 0.5925, accuracy : 0.7915601023017903\n",
      "102844412706659630\n",
      "precision : 0.8171206225680934, recall : 0.711864406779661, f1 : 0.7608695652173911, accuracy : 0.9141184124918673\n",
      "102844412705545516\n",
      "precision : 0.5562130177514792, recall : 0.32525951557093424, f1 : 0.4104803493449781, accuracy : 0.8471986417657046\n",
      "102844401153447587\n",
      "precision : 0.6357615894039735, recall : 0.4247787610619469, f1 : 0.5092838196286473, accuracy : 0.904639175257732\n",
      "102844341912679064\n",
      "precision : 0.288135593220339, recall : 0.28874734607218683, f1 : 0.288441145281018, accuracy : 0.7123874839262752\n",
      "102844212431320277\n",
      "precision : 0.6176470588235294, recall : 0.7433628318584071, f1 : 0.6746987951807228, accuracy : 0.9108910891089109\n",
      "102844212431516886\n",
      "precision : 0.5142857142857142, recall : 0.823943661971831, f1 : 0.6332882273342354, accuracy : 0.8543010752688172\n",
      "102844401152071328\n",
      "precision : 0.6160990712074303, recall : 0.6482084690553745, f1 : 0.6317460317460317, accuracy : 0.8693693693693694\n",
      "102844341906977427\n",
      "precision : 0.6431226765799256, recall : 0.5014492753623189, f1 : 0.5635179153094462, accuracy : 0.8515235457063712\n",
      "102844212429747404\n",
      "precision : 0.6621392190152802, recall : 0.5379310344827586, f1 : 0.593607305936073, accuracy : 0.8042521994134897\n",
      "102844235747982779\n",
      "precision : 0.5226244343891403, recall : 0.7042682926829268, f1 : 0.6000000000000001, accuracy : 0.81253804017042\n",
      "102844412716686654\n",
      "precision : 0.5257142857142857, recall : 0.6072607260726073, f1 : 0.5635528330781011, accuracy : 0.8002803083391731\n",
      "102844294669109446\n",
      "precision : 0.4864864864864865, recall : 0.8450704225352113, f1 : 0.6174957118353344, accuracy : 0.7933271547729379\n",
      "102844412722847048\n",
      "precision : 0.6420664206642066, recall : 0.6105263157894737, f1 : 0.6258992805755396, accuracy : 0.864406779661017\n",
      "102844412721012035\n",
      "precision : 0.6457142857142857, recall : 0.5159817351598174, f1 : 0.5736040609137056, accuracy : 0.9131334022750776\n",
      "102844401151219358\n",
      "precision : 0.5747126436781609, recall : 0.5813953488372093, f1 : 0.5780346820809248, accuracy : 0.8604206500956023\n",
      "102844235746475447\n",
      "precision : 0.4679245283018868, recall : 0.7337278106508875, f1 : 0.5714285714285714, accuracy : 0.7723378212974297\n",
      "102844412720618818\n",
      "precision : 0.8216216216216217, recall : 0.5259515570934256, f1 : 0.6413502109704641, accuracy : 0.9\n",
      "102904869420860038\n",
      "precision : 0.4425087108013937, recall : 0.40836012861736337, f1 : 0.42474916387959866, accuracy : 0.7940119760479042\n",
      "102910307641576395\n",
      "precision : 0.18548387096774194, recall : 0.12813370473537605, f1 : 0.1515650741350906, accuracy : 0.7868377483443708\n",
      "102844235751783874\n",
      "precision : 0.3250883392226148, recall : 0.4577114427860697, f1 : 0.38016528925619836, accuracy : 0.7530864197530864\n",
      "102844224146930812\n",
      "precision : 0.5101744186046512, recall : 0.814385150812065, f1 : 0.6273458445040214, accuracy : 0.7413151364764268\n",
      "102844341905011343\n",
      "precision : 0.5359477124183006, recall : 0.5815602836879432, f1 : 0.5578231292517005, accuracy : 0.8551532033426184\n",
      "102844235752963525\n",
      "precision : 0.5160349854227405, recall : 0.4154929577464789, f1 : 0.46033810143042914, accuracy : 0.7727272727272727\n",
      "102844235748703677\n",
      "precision : 0.12206572769953052, recall : 0.06970509383378017, f1 : 0.08873720136518772, accuracy : 0.7644464049404499\n",
      "102844235749424575\n",
      "precision : 0.46238938053097345, recall : 0.6314199395770392, f1 : 0.5338441890166028, accuracy : 0.8333333333333334\n",
      "102844412705217835\n",
      "precision : 0.5440613026819924, recall : 0.8255813953488372, f1 : 0.6558891454965359, accuracy : 0.8522558254833912\n",
      "102844412723174729\n",
      "precision : 0.17674418604651163, recall : 0.1986062717770035, f1 : 0.18703855619360132, accuracy : 0.6065899166335847\n",
      "102844401153578660\n",
      "precision : 0.5, recall : 0.5095057034220533, f1 : 0.5047080979284368, accuracy : 0.8601063829787234\n",
      "102844341905404560\n",
      "precision : 0.6142557651991615, recall : 0.7474489795918368, f1 : 0.6743383199079402, accuracy : 0.8069577080491133\n",
      "102844412706987311\n",
      "precision : 0.43558282208588955, recall : 0.603399433427762, f1 : 0.5059382422802849, accuracy : 0.8089113458888378\n",
      "102844341906649746\n"
     ]
    }
   ],
   "source": [
    "average = [0,0,0,0,0]\n",
    "for key in audiochat.keys():\n",
    "    audiochat[key] = np.array(audiochat[key])\n",
    "    TP = len(np.where((audiochat[key]==1)&(label[key]==1)==True)[0])\n",
    "    FP = len(np.where((audiochat[key]==1)&(label[key]==0)==True)[0])\n",
    "    TN = len(np.where((audiochat[key]==0)&(label[key]==0)==True)[0])\n",
    "    FN = len(np.where((audiochat[key]==0)&(label[key]==1)==True)[0])\n",
    "\n",
    "    \n",
    "    precision = TP/(TP+FP)\n",
    "    recall = TP/(TP+FN)\n",
    "    accuracy = (TP+TN) / (TP+FN+FP+TN)\n",
    "    \n",
    "    if precision==0 and recall == 0:\n",
    "        print('!')\n",
    "    else:\n",
    "    \n",
    "        f1 = (2*precision*recall / (precision + recall))\n",
    "    \n",
    "        print('precision : {}, recall : {}, f1 : {}, accuracy : {}'.format(precision,recall,f1,accuracy))\n",
    "        print(key)\n",
    "        average[0]+= precision\n",
    "        average[1] += recall\n",
    "        average[2] += f1\n",
    "        average[3] += accuracy\n",
    "        average[4]+=1"
   ]
  },
  {
   "cell_type": "code",
   "execution_count": 92,
   "metadata": {},
   "outputs": [
    {
     "name": "stdout",
     "output_type": "stream",
     "text": [
      "precision : 0.4918382909164864, recall : 0.5704993033241778, f1 : 0.5145583118449034, accuracy : 0.8164925482542903\n"
     ]
    }
   ],
   "source": [
    "print('precision : {}, recall : {}, f1 : {}, accuracy : {}'.format(average[0]/average[4],average[1]/average[4],average[2]/average[4],average[3]/average[4]))"
   ]
  },
  {
   "cell_type": "code",
   "execution_count": 14,
   "metadata": {
    "collapsed": true
   },
   "outputs": [],
   "source": [
    "# 비디오만 사용한 그래프\n",
    "\n",
    "\n",
    "import pickle\n",
    "#변화율 데이터 저장\n",
    "with open('/home/ubuntu/gangmin/tsvt/multimodal/data/video_win_loss_features.pickle','rb') as f:\n",
    "    video = pickle.load(f)"
   ]
  },
  {
   "cell_type": "code",
   "execution_count": 100,
   "metadata": {
    "scrolled": false
   },
   "outputs": [
    {
     "data": {
      "image/png": "[encoded data removed]",
      "text/plain": [
       "<matplotlib.figure.Figure at 0x7effb3f44ef0>"
      ]
     },
     "metadata": {},
     "output_type": "display_data"
    }
   ],
   "source": [
    "import pandas as pd\n",
    "from matplotlib import pyplot as plt\n",
    "plt.plot(video['102844235752111555'])\n",
    "plt.xlabel(\"Time(second)\")\n",
    "plt.ylabel(\"win-loss probability\")\n",
    "plt.show()"
   ]
  },
  {
   "cell_type": "code",
   "execution_count": 73,
   "metadata": {
    "collapsed": true
   },
   "outputs": [],
   "source": [
    "# 비디오만 사용한 그래프\n",
    "\n",
    "\n",
    "import pickle\n",
    "#변화율 데이터 저장\n",
    "with open('/home/ubuntu/gangmin/tsvt/multimodal/data/video_frames.pickle','rb') as f:\n",
    "    video_frames = pickle.load(f)"
   ]
  },
  {
   "cell_type": "code",
   "execution_count": 74,
   "metadata": {},
   "outputs": [
    {
     "data": {
      "image/png": "[encoded data removed]",
      "text/plain": [
       "<matplotlib.figure.Figure at 0x7effb3f9ac18>"
      ]
     },
     "metadata": {},
     "output_type": "display_data"
    }
   ],
   "source": [
    "import pandas as pd\n",
    "from matplotlib import pyplot as plt\n",
    "plt.plot(video_frames['102844212428895431'])\n",
    "plt.show()"
   ]
  },
  {
   "cell_type": "code",
   "execution_count": 75,
   "metadata": {},
   "outputs": [
    {
     "data": {
      "image/png": "[encoded data removed]",
      "text/plain": [
       "<matplotlib.figure.Figure at 0x7effb3f83ac8>"
      ]
     },
     "metadata": {},
     "output_type": "display_data"
    }
   ],
   "source": [
    "import pandas as pd\n",
    "from matplotlib import pyplot as plt\n",
    "plt.plot(audiochat['102844212428895431'])\n",
    "plt.show()"
   ]
  },
  {
   "cell_type": "code",
   "execution_count": 98,
   "metadata": {},
   "outputs": [
    {
     "name": "stdout",
     "output_type": "stream",
     "text": [
      "[1. 2. 3.]\n"
     ]
    }
   ],
   "source": [
    "temp = np.array([[1,2,3,],[1,2,3,],[1,2,3,],[1,2,3,],[1,2,3,]])\n",
    "arr = []\n",
    "for fpr in temp:\n",
    "    arr.append(fpr)\n",
    "print(np.average(arr,axis=0))"
   ]
  },
  {
   "cell_type": "code",
   "execution_count": null,
   "metadata": {
    "collapsed": true
   },
   "outputs": [],
   "source": []
  }
 ],
 "metadata": {
  "kernelspec": {
   "display_name": "Python 3",
   "language": "python",
   "name": "python3"
  },
  "language_info": {
   "codemirror_mode": {
    "name": "ipython",
    "version": 3
   },
   "file_extension": ".py",
   "mimetype": "text/x-python",
   "name": "python",
   "nbconvert_exporter": "python",
   "pygments_lexer": "ipython3",
   "version": "3.6.3"
  }
 },
 "nbformat": 4,
 "nbformat_minor": 2
}
