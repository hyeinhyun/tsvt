{
 "cells": [
  {
   "cell_type": "code",
   "execution_count": 68,
   "metadata": {
    "collapsed": true
   },
   "outputs": [],
   "source": [
    "import pickle\n",
    "with open('/home/ubuntu/hyein/tsvt/multimodal/lstm/오디오(H)+채팅/result.pickle','rb') as f:\n",
    "    audiochat = pickle.load(f)"
   ]
  },
  {
   "cell_type": "code",
   "execution_count": 2,
   "metadata": {
    "collapsed": true
   },
   "outputs": [],
   "source": [
    "import pickle\n",
    "with open('/home/ubuntu/hyein/tsvt/multimodal/lstm/output/result.pickle','rb') as f:\n",
    "    output = pickle.load(f)"
   ]
  },
  {
   "cell_type": "code",
   "execution_count": 3,
   "metadata": {
    "collapsed": true
   },
   "outputs": [],
   "source": [
    "import pickle\n",
    "with open('/home/ubuntu/hyein/tsvt/multimodal/lstm/2step/result.pickle','rb') as f:\n",
    "    step = pickle.load(f)"
   ]
  },
  {
   "cell_type": "code",
   "execution_count": 7,
   "metadata": {},
   "outputs": [],
   "source": [
    "with open('/home/ubuntu/hyein/tsvt/multimodal/label/label.pickle','rb') as f:\n",
    "    label = pickle.load(f)"
   ]
  },
  {
   "cell_type": "code",
   "execution_count": 11,
   "metadata": {
    "collapsed": true
   },
   "outputs": [],
   "source": [
    "import numpy as np"
   ]
  },
  {
   "cell_type": "code",
   "execution_count": 69,
   "metadata": {},
   "outputs": [
    {
     "name": "stdout",
     "output_type": "stream",
     "text": [
      "precision : 0.5400763358778626, recall : 0.8250728862973761, f1 : 0.6528258362168397, accuracy : 0.842077649527807\n",
      "102844412717014335\n",
      "precision : 0.5813953488372093, recall : 0.6773399014778325, f1 : 0.6257110352673494, accuracy : 0.8413693346190936\n",
      "102844224148503678\n",
      "precision : 0.4498567335243553, recall : 0.6181102362204725, f1 : 0.5207296849087895, accuracy : 0.8129449838187702\n",
      "102844412711836986\n",
      "precision : 0.5425867507886435, recall : 0.5375, f1 : 0.5400313971742543, accuracy : 0.841792656587473\n",
      "102844401156069033\n",
      "precision : 0.6530172413793104, recall : 0.851123595505618, f1 : 0.7390243902439023, accuracy : 0.9025500910746812\n",
      "102844294670878922\n",
      "precision : 0.5981481481481481, recall : 0.8197969543147208, f1 : 0.6916488222698072, accuracy : 0.8644705882352941\n",
      "102844341904683662\n",
      "precision : 0.6370558375634517, recall : 0.8175895765472313, f1 : 0.7161198288159771, accuracy : 0.9040963855421686\n",
      "102844412704890154\n",
      "precision : 0.21893491124260356, recall : 0.17535545023696683, f1 : 0.19473684210526315, accuracy : 0.7372262773722628\n",
      "102844235746082230\n",
      "precision : 0.47113594040968343, recall : 0.6487179487179487, f1 : 0.5458468176914779, accuracy : 0.7667590027700831\n",
      "102844224148896895\n",
      "precision : 0.4175824175824176, recall : 0.6927083333333334, f1 : 0.5210577864838394, accuracy : 0.8172645739910314\n",
      "102844294674286796\n",
      "precision : 0.4576659038901602, recall : 0.7246376811594203, f1 : 0.5610098176718092, accuracy : 0.8477626459143969\n",
      "102844412708953395\n",
      "precision : 0.21428571428571427, recall : 0.07894736842105263, f1 : 0.11538461538461539, accuracy : 0.8603238866396761\n",
      "102844235751390657\n",
      "precision : 0.4166666666666667, recall : 0.6117021276595744, f1 : 0.49568965517241376, accuracy : 0.8859093125304729\n",
      "102844212428895431\n",
      "precision : 0.43778110944527737, recall : 0.8588235294117647, f1 : 0.579940417080437, accuracy : 0.7785340314136125\n",
      "102844412717407552\n",
      "precision : 0.6171875, recall : 0.45664739884393063, f1 : 0.5249169435215947, accuracy : 0.8729453576188361\n",
      "102844212429092040\n",
      "precision : 0.6120218579234973, recall : 0.717948717948718, f1 : 0.6607669616519175, accuracy : 0.8572315332091869\n",
      "102844412707380528\n",
      "precision : 0.4748603351955307, recall : 0.5279503105590062, f1 : 0.5, accuracy : 0.7873227689741451\n",
      "102844212430730450\n",
      "precision : 0.5320088300220751, recall : 0.7774193548387097, f1 : 0.6317169069462647, accuracy : 0.846782988004362\n",
      "102844224147717245\n",
      "precision : 0.53276955602537, recall : 0.8600682593856656, f1 : 0.6579634464751958, accuracy : 0.8498567335243553\n",
      "102844412716227901\n",
      "precision : 0.49627791563275436, recall : 0.5249343832020997, f1 : 0.5102040816326532, accuracy : 0.8441558441558441\n",
      "102844212431058132\n",
      "precision : 0.6683673469387755, recall : 0.7690802348336595, f1 : 0.7151956323930847, accuracy : 0.8278327832783279\n",
      "102844412710001974\n",
      "precision : 0.5010570824524313, recall : 0.7247706422018348, f1 : 0.5925, accuracy : 0.7915601023017903\n",
      "102844412706659630\n"
     ]
    }
   ],
   "source": [
    "average = [0,0,0,0,0]\n",
    "for key in audiochat.keys():\n",
    "    audiochat[key] = np.array(audiochat[key])\n",
    "    TP = len(np.where((audiochat[key]==1)&(label[key]==1)==True)[0])\n",
    "    FP = len(np.where((audiochat[key]==1)&(label[key]==0)==True)[0])\n",
    "    TN = len(np.where((audiochat[key]==0)&(label[key]==0)==True)[0])\n",
    "    FN = len(np.where((audiochat[key]==0)&(label[key]==1)==True)[0])\n",
    "\n",
    "    \n",
    "    precision = TP/(TP+FP)\n",
    "    recall = TP/(TP+FN)\n",
    "    accuracy = (TP+TN) / (TP+FN+FP+TN)\n",
    "    \n",
    "    if precision==0 and recall == 0:\n",
    "        print('!')\n",
    "    else:\n",
    "    \n",
    "        f1 = (2*precision*recall / (precision + recall))\n",
    "    \n",
    "        print('precision : {}, recall : {}, f1 : {}, accuracy : {}'.format(precision,recall,f1,accuracy))\n",
    "        print(key)\n",
    "        average[0]+= precision\n",
    "        average[1] += recall\n",
    "        average[2] += f1\n",
    "        average[3] += accuracy\n",
    "        average[4]+=1"
   ]
  },
  {
   "cell_type": "code",
   "execution_count": 70,
   "metadata": {},
   "outputs": [
    {
     "name": "stdout",
     "output_type": "stream",
     "text": [
      "precision : 0.50321543108327, recall : 0.6498293132325879, f1 : 0.5587736781412493, accuracy : 0.8354895241410759\n"
     ]
    }
   ],
   "source": [
    "print('precision : {}, recall : {}, f1 : {}, accuracy : {}'.format(average[0]/average[4],average[1]/average[4],average[2]/average[4],average[3]/average[4]))"
   ]
  },
  {
   "cell_type": "code",
   "execution_count": 14,
   "metadata": {
    "collapsed": true
   },
   "outputs": [],
   "source": [
    "# 비디오만 사용한 그래프\n",
    "\n",
    "\n",
    "import pickle\n",
    "#변화율 데이터 저장\n",
    "with open('/home/ubuntu/gangmin/tsvt/multimodal/data/video_win_loss_features.pickle','rb') as f:\n",
    "    video = pickle.load(f)"
   ]
  },
  {
   "cell_type": "code",
   "execution_count": 88,
   "metadata": {
    "scrolled": false
   },
   "outputs": [
    {
     "data": {
      "image/png": "[encoded data removed]",
      "text/plain": [
       "<matplotlib.figure.Figure at 0x7effb401fd68>"
      ]
     },
     "metadata": {},
     "output_type": "display_data"
    }
   ],
   "source": [
    "import pandas as pd\n",
    "from matplotlib import pyplot as plt\n",
    "plt.plot(video['102844341906977427'])\n",
    "plt.show()"
   ]
  },
  {
   "cell_type": "code",
   "execution_count": 73,
   "metadata": {
    "collapsed": true
   },
   "outputs": [],
   "source": [
    "# 비디오만 사용한 그래프\n",
    "\n",
    "\n",
    "import pickle\n",
    "#변화율 데이터 저장\n",
    "with open('/home/ubuntu/gangmin/tsvt/multimodal/data/video_frames.pickle','rb') as f:\n",
    "    video_frames = pickle.load(f)"
   ]
  },
  {
   "cell_type": "code",
   "execution_count": 74,
   "metadata": {},
   "outputs": [
    {
     "data": {
      "image/png": "[encoded data removed]",
      "text/plain": [
       "<matplotlib.figure.Figure at 0x7effb3f9ac18>"
      ]
     },
     "metadata": {},
     "output_type": "display_data"
    }
   ],
   "source": [
    "import pandas as pd\n",
    "from matplotlib import pyplot as plt\n",
    "plt.plot(video_frames['102844212428895431'])\n",
    "plt.show()"
   ]
  },
  {
   "cell_type": "code",
   "execution_count": 75,
   "metadata": {},
   "outputs": [
    {
     "data": {
      "image/png": "[encoded data removed]",
      "text/plain": [
       "<matplotlib.figure.Figure at 0x7effb3f83ac8>"
      ]
     },
     "metadata": {},
     "output_type": "display_data"
    }
   ],
   "source": [
    "import pandas as pd\n",
    "from matplotlib import pyplot as plt\n",
    "plt.plot(audiochat['102844212428895431'])\n",
    "plt.show()"
   ]
  },
  {
   "cell_type": "code",
   "execution_count": null,
   "metadata": {
    "collapsed": true
   },
   "outputs": [],
   "source": []
  }
 ],
 "metadata": {
  "kernelspec": {
   "display_name": "Python 3",
   "language": "python",
   "name": "python3"
  },
  "language_info": {
   "codemirror_mode": {
    "name": "ipython",
    "version": 3
   },
   "file_extension": ".py",
   "mimetype": "text/x-python",
   "name": "python",
   "nbconvert_exporter": "python",
   "pygments_lexer": "ipython3",
   "version": "3.6.3"
  }
 },
 "nbformat": 4,
 "nbformat_minor": 2
}
