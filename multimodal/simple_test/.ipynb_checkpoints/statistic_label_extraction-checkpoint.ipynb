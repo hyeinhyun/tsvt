{
 "cells": [
  {
   "cell_type": "markdown",
   "metadata": {},
   "source": [
    "# label extraction"
   ]
  },
  {
   "cell_type": "code",
   "execution_count": 7,
   "metadata": {
    "collapsed": true
   },
   "outputs": [],
   "source": [
    "import json\n",
    "with open('/home/ubuntu/hyein/tsvt/multimodal/lstm/[newdata]오디오(H)+채팅-under/lstm_prob_train.json','rb') as f:\n",
    "    ac_train = json.load(f)"
   ]
  },
  {
   "cell_type": "code",
   "execution_count": 8,
   "metadata": {
    "collapsed": true
   },
   "outputs": [],
   "source": [
    "import json\n",
    "with open('/home/ubuntu/hyein/tsvt/multimodal/lstm/[newdata]오디오(H)+채팅-under/lstm_prob_test.json','rb') as f:\n",
    "    ac_test = json.load(f)"
   ]
  },
  {
   "cell_type": "code",
   "execution_count": 9,
   "metadata": {
    "collapsed": true
   },
   "outputs": [],
   "source": [
    "import json\n",
    "with open('/home/ubuntu/hyein/tsvt/multimodal/lstm/[newdata]오디오(H)+채팅-under/lstm_prob_val.json','rb') as f:\n",
    "    ac_val = json.load(f)"
   ]
  },
  {
   "cell_type": "code",
   "execution_count": 10,
   "metadata": {
    "collapsed": true
   },
   "outputs": [],
   "source": [
    "import pickle\n",
    "with open('/home/ubuntu/gangmin/tsvt/video/highlight_add.pickle',\"rb\") as f:\n",
    "    highlight_add = pickle.load(f)"
   ]
  },
  {
   "cell_type": "code",
   "execution_count": 11,
   "metadata": {
    "collapsed": true
   },
   "outputs": [],
   "source": [
    "import pickle\n",
    "with open('/home/ubuntu/gangmin/tsvt/multimodal/label/label.pickle',\"rb\") as f:\n",
    "    label = pickle.load(f)"
   ]
  },
  {
   "cell_type": "code",
   "execution_count": 12,
   "metadata": {
    "collapsed": true
   },
   "outputs": [],
   "source": [
    "with open('/home/ubuntu/gangmin/tsvt/video/highlight_statistic.pickle','rb') as f:\n",
    "    delta = pickle.load(f)"
   ]
  },
  {
   "cell_type": "code",
   "execution_count": 13,
   "metadata": {
    "collapsed": true
   },
   "outputs": [],
   "source": [
    "import pickle\n",
    "with open('/home/ubuntu/gangmin/tsvt/video/temp_statistic.pickle',\"rb\") as f:\n",
    "    baron_statistic,baron_stack,dragon_statistic,dragon_stack = pickle.load(f)"
   ]
  },
  {
   "cell_type": "code",
   "execution_count": 14,
   "metadata": {
    "collapsed": true
   },
   "outputs": [],
   "source": [
    "import numpy as np\n",
    "import matplotlib.pyplot as plt \n",
    "from scipy.signal import find_peaks"
   ]
  },
  {
   "cell_type": "code",
   "execution_count": 15,
   "metadata": {
    "collapsed": true
   },
   "outputs": [],
   "source": [
    "parameter = 1.3"
   ]
  },
  {
   "cell_type": "code",
   "execution_count": 16,
   "metadata": {
    "collapsed": true
   },
   "outputs": [],
   "source": [
    "peakarr_test={}\n",
    "peakarr_train={}\n",
    "peakarr_val={}\n",
    "\n",
    "for key in ac_test.keys():\n",
    "    peaks,_ = find_peaks(list(zip(*ac_test[key]))[1],prominence=parameter)\n",
    "    peakarr_test[key] = peaks\n",
    "\n",
    "for key in ac_train.keys():\n",
    "    peaks,_ = find_peaks(list(zip(*ac_train[key]))[1],prominence=parameter)\n",
    "    peakarr_train[key] = peaks\n",
    "\n",
    "for key in ac_val.keys():\n",
    "    peaks,_ = find_peaks(list(zip(*ac_val[key]))[1],prominence=parameter)\n",
    "    peakarr_val[key] = peaks\n",
    "\n",
    "deltas_test = {}\n",
    "deltas_train={}\n",
    "deltas_val={}\n",
    "\n",
    "for key in peakarr_test.keys():\n",
    "    deltas_test[key] = delta[key]\n",
    "\n",
    "for key in peakarr_train.keys():\n",
    "    deltas_train[key] = delta[key]\n",
    "\n",
    "for key in peakarr_val.keys():\n",
    "    deltas_val[key] = delta[key]\n",
    "\n",
    "data_test={}\n",
    "data_train ={}\n",
    "data_val={}\n",
    "\n",
    "for key in peakarr_test.keys():\n",
    "    data_test[key] = np.concatenate((peakarr_test[key],deltas_test[key]),axis=0)\n",
    "\n",
    "for key in peakarr_train.keys():\n",
    "    data_train[key] = np.concatenate((peakarr_train[key],deltas_train[key]),axis=0)\n",
    "    \n",
    "for key in peakarr_val.keys():\n",
    "    data_val[key] = np.concatenate((peakarr_val[key],deltas_val[key]),axis=0)\n",
    "\n"
   ]
  },
  {
   "cell_type": "code",
   "execution_count": 17,
   "metadata": {
    "collapsed": true
   },
   "outputs": [],
   "source": [
    "for key in peakarr_test.keys():\n",
    "    data_test[key] = np.concatenate((data_test[key],baron_statistic[key]),axis=0)\n",
    "    data_test[key] = np.concatenate((data_test[key],dragon_statistic[key]),axis=0)\n",
    "    data_test[key] = np.append(data_test[key],len(label[key])-1)\n",
    "\n",
    "for key in peakarr_train.keys():\n",
    "    data_train[key] = np.concatenate((data_train[key],baron_statistic[key]),axis=0)\n",
    "    data_train[key] = np.concatenate((data_train[key],dragon_statistic[key]),axis=0)\n",
    "    data_train[key] = np.append(data_train[key],len(label[key])-1)\n",
    "    \n",
    "for key in peakarr_val.keys():\n",
    "    data_val[key] = np.concatenate((data_val[key],baron_statistic[key]),axis=0)\n",
    "    data_val[key] = np.concatenate((data_val[key],dragon_statistic[key]),axis=0)\n",
    "    data_val[key] = np.append(data_val[key],len(label[key])-1)"
   ]
  },
  {
   "cell_type": "code",
   "execution_count": 18,
   "metadata": {
    "collapsed": true
   },
   "outputs": [],
   "source": [
    "for key in peakarr_test.keys():\n",
    "    data_test[key] = list(set(data_test[key]))\n",
    "    data_test[key].sort()\n",
    "    \n",
    "for key in peakarr_train.keys():\n",
    "    data_train[key] = list(set(data_train[key]))\n",
    "    data_train[key].sort()\n",
    "    \n",
    "for key in peakarr_val.keys():\n",
    "    data_val[key] = list(set(data_val[key]))\n",
    "    data_val[key].sort()"
   ]
  },
  {
   "cell_type": "markdown",
   "metadata": {},
   "source": [
    "# label 만들기"
   ]
  },
  {
   "cell_type": "code",
   "execution_count": 19,
   "metadata": {
    "collapsed": true
   },
   "outputs": [],
   "source": [
    "#labels\n",
    "\n",
    "label_test_before={}\n",
    "label_test_after={}\n",
    "\n",
    "for game in data_test.keys():\n",
    "    highlight_before = []\n",
    "    highlight_after = []\n",
    "    for i in data_test[game]:\n",
    "        emptyb=0\n",
    "        emptya=0\n",
    "        check = 0\n",
    "        accu = 0\n",
    "        for ind,j in enumerate(label[game]):\n",
    "            if j == 1:\n",
    "                if ind == i:\n",
    "                    highlight_before.append(accu)\n",
    "                    emptyb=1\n",
    "                    accu = 0\n",
    "                    check = 1\n",
    "                else:\n",
    "                    accu += 1\n",
    "            else:\n",
    "                if check == 1:\n",
    "                    highlight_after.append(accu)\n",
    "                    emptya=1\n",
    "                    accu = 0\n",
    "                    check = 0\n",
    "                accu = 0\n",
    "        if emptyb == 0:\n",
    "            highlight_before.append(0)\n",
    "        if emptya ==0:\n",
    "            highlight_after.append(0)\n",
    "\n",
    "    label_test_before[game]=highlight_before\n",
    "    label_test_after[game]=highlight_after"
   ]
  },
  {
   "cell_type": "code",
   "execution_count": 20,
   "metadata": {
    "collapsed": true
   },
   "outputs": [],
   "source": [
    "#labels\n",
    "\n",
    "label_train_before={}\n",
    "label_train_after={}\n",
    "\n",
    "for game in data_train.keys():\n",
    "    highlight_before = []\n",
    "    highlight_after = []\n",
    "    for i in data_train[game]:\n",
    "        emptyb=0\n",
    "        emptya=0\n",
    "        check = 0\n",
    "        accu = 0\n",
    "        for ind,j in enumerate(label[game]):\n",
    "            if j == 1:\n",
    "                if ind == i:\n",
    "                    highlight_before.append(accu)\n",
    "                    emptyb=1\n",
    "                    accu = 0\n",
    "                    check = 1\n",
    "                else:\n",
    "                    accu += 1\n",
    "            else:\n",
    "                if check == 1:\n",
    "                    highlight_after.append(accu)\n",
    "                    emptya=1\n",
    "                    accu = 0\n",
    "                    check = 0\n",
    "                accu = 0\n",
    "        if emptyb == 0:\n",
    "            highlight_before.append(0)\n",
    "        if emptya ==0:\n",
    "            highlight_after.append(0)\n",
    "\n",
    "    label_train_before[game]=highlight_before\n",
    "    label_train_after[game]=highlight_after"
   ]
  },
  {
   "cell_type": "code",
   "execution_count": 21,
   "metadata": {
    "collapsed": true
   },
   "outputs": [],
   "source": [
    "#labels\n",
    "\n",
    "label_val_before={}\n",
    "label_val_after={}\n",
    "\n",
    "for game in data_val.keys():\n",
    "    highlight_before = []\n",
    "    highlight_after = []\n",
    "    for i in data_val[game]:\n",
    "        emptyb=0\n",
    "        emptya=0\n",
    "        check = 0\n",
    "        accu = 0\n",
    "        for ind,j in enumerate(label[game]):\n",
    "            if j == 1:\n",
    "                if ind == i:\n",
    "                    highlight_before.append(accu)\n",
    "                    emptyb=1\n",
    "                    accu = 0\n",
    "                    check = 1\n",
    "                else:\n",
    "                    accu += 1\n",
    "            else:\n",
    "                if check == 1:\n",
    "                    highlight_after.append(accu)\n",
    "                    emptya=1\n",
    "                    accu = 0\n",
    "                    check = 0\n",
    "                accu = 0\n",
    "        if emptyb == 0:\n",
    "            highlight_before.append(0)\n",
    "        if emptya ==0:\n",
    "            highlight_after.append(0)\n",
    "    label_val_before[game]=highlight_before\n",
    "    label_val_after[game]=highlight_after"
   ]
  },
  {
   "cell_type": "markdown",
   "metadata": {},
   "source": [
    "# 1,0으로 만들기"
   ]
  },
  {
   "cell_type": "code",
   "execution_count": 22,
   "metadata": {
    "collapsed": true
   },
   "outputs": [],
   "source": [
    "for game in data_test.keys():\n",
    "    temp =np.zeros(len(label[game]))\n",
    "    tempb =np.zeros(len(label[game]))\n",
    "    tempa =np.zeros(len(label[game]))\n",
    "    for i,v in enumerate(temp):\n",
    "        if i in data_test[game]:\n",
    "            temp[i] = 1\n",
    "            tempb[i] = label_test_before[game].pop(0)\n",
    "            tempa[i] = label_test_after[game].pop(0)\n",
    "    data_test[game] = temp\n",
    "    label_test_before[game] = tempb\n",
    "    label_test_after[game] = tempa\n",
    "    \n",
    "for game in data_train.keys():\n",
    "    temp =np.zeros(len(label[game]))\n",
    "    tempb =np.zeros(len(label[game]))\n",
    "    tempa =np.zeros(len(label[game]))\n",
    "    for i,v in enumerate(temp):\n",
    "        if i in data_train[game]:\n",
    "            temp[i] = 1\n",
    "            tempb[i] = label_train_before[game].pop(0)\n",
    "            tempa[i] = label_train_after[game].pop(0)\n",
    "    data_train[game] = temp\n",
    "    label_train_before[game] = tempb\n",
    "    label_train_after[game] = tempa\n",
    "\n",
    "for game in data_val.keys():\n",
    "    temp =np.zeros(len(label[game]))\n",
    "    tempb =np.zeros(len(label[game]))\n",
    "    tempa =np.zeros(len(label[game]))\n",
    "    for i,v in enumerate(temp):\n",
    "        if i in data_val[game]:\n",
    "            temp[i] = 1\n",
    "            tempb[i] = label_val_before[game].pop(0)\n",
    "            tempa[i] = label_val_after[game].pop(0)\n",
    "    data_val[game] = temp\n",
    "    label_val_before[game] = tempb\n",
    "    label_val_after[game] = tempa"
   ]
  },
  {
   "cell_type": "code",
   "execution_count": 23,
   "metadata": {},
   "outputs": [
    {
     "data": {
      "text/plain": [
       "{'102844212430075086': array([ 0.,  0.,  0., ...,  0.,  0., 30.]),\n",
       " '102844224145685626': array([ 0.,  0.,  0., ...,  0.,  0., 58.]),\n",
       " '102844235751390657': array([ 0.,  0.,  0., ...,  0.,  0., 54.]),\n",
       " '102844294667405508': array([ 0.,  0.,  0., ...,  0.,  0., 72.]),\n",
       " '102844294671796427': array([ 0.,  0.,  0., ...,  0.,  0., 33.]),\n",
       " '102844341905404560': array([ 0.,  0.,  0., ...,  0.,  0., 30.]),\n",
       " '102844341906977427': array([ 0.,  0.,  0., ...,  0.,  0., 50.]),\n",
       " '102844401153578660': array([ 0.,  0.,  0., ...,  0.,  0., 35.]),\n",
       " '102844401156069033': array([ 0.,  0.,  0., ...,  0.,  0., 64.]),\n",
       " '102844412706659630': array([ 0.,  0.,  0., ...,  0.,  0., 39.]),\n",
       " '102844412711116088': array([ 0.,  0.,  0., ...,  0.,  0., 38.]),\n",
       " '102844412717407552': array([ 0.,  0.,  0., ...,  0.,  0., 56.]),\n",
       " '102904869420860038': array([ 0.,  0.,  0., ...,  0.,  0., 58.]),\n",
       " '102910307641576395': array([ 0.,  0.,  0., ...,  0.,  0., 34.])}"
      ]
     },
     "execution_count": 23,
     "metadata": {},
     "output_type": "execute_result"
    }
   ],
   "source": [
    "label_val_before"
   ]
  },
  {
   "cell_type": "code",
   "execution_count": 24,
   "metadata": {},
   "outputs": [
    {
     "data": {
      "text/plain": [
       "{'102844212429944013': array([ 0.,  0.,  0., ...,  0.,  0., 68.]),\n",
       " '102844212430599377': array([ 0.,  0.,  0., ...,  0.,  0., 33.]),\n",
       " '102844212430927059': array([ 0.,  0.,  0., ...,  0.,  0., 62.]),\n",
       " '102844212431058132': array([ 0.,  0.,  0., ...,  0.,  0., 27.]),\n",
       " '102844224147717245': array([ 0.,  0.,  0., ...,  0.,  0., 29.]),\n",
       " '102844235747982779': array([ 0.,  0.,  0., ...,  0.,  0., 11.]),\n",
       " '102844235753749959': array([ 0.,  0.,  0., ...,  0.,  0., 33.]),\n",
       " '102844283023206486': array([ 0.,  0.,  0., ...,  0.,  0., 60.]),\n",
       " '102844341902586509': array([ 0.,  0.,  0., ...,  0.,  0., 71.]),\n",
       " '102844341908026005': array([ 0.,  0.,  0., ...,  0.,  0., 19.]),\n",
       " '102844341912679064': array([ 0.,  0.,  0., ...,  0.,  0., 38.]),\n",
       " '102844401152267937': array([ 0.,  0.,  0., ...,  0.,  0., 12.]),\n",
       " '102844412704890154': array([ 0.,  0.,  0., ..., 39.,  0., 41.]),\n",
       " '102844412708953395': array([ 0.,  0.,  0., ...,  0.,  0., 44.]),\n",
       " '102844412711443769': array([ 0.,  0.,  0., ...,  0.,  0., 53.])}"
      ]
     },
     "execution_count": 24,
     "metadata": {},
     "output_type": "execute_result"
    }
   ],
   "source": [
    "label_test_before"
   ]
  },
  {
   "cell_type": "code",
   "execution_count": 25,
   "metadata": {},
   "outputs": [
    {
     "data": {
      "text/plain": [
       "{'102844212428895431': array([ 0.,  0.,  0., ...,  0.,  0., 15.]),\n",
       " '102844212429092040': array([ 0.,  0.,  0., ...,  0.,  0., 12.]),\n",
       " '102844212429419722': array([ 0.,  0.,  0., ...,  0.,  0., 59.]),\n",
       " '102844212429550795': array([ 0.,  0.,  0., ...,  0.,  0., 37.]),\n",
       " '102844212429747404': array([ 0.,  0.,  0., ...,  0.,  0., 31.]),\n",
       " '102844212430402768': array([ 0.,  0.,  0., ...,  0.,  0., 46.]),\n",
       " '102844212430730450': array([ 0.,  0.,  0., ..., 85.,  0., 87.]),\n",
       " '102844212431516886': array([ 0.,  0.,  0., ...,  0.,  0., 66.]),\n",
       " '102844212431779031': array([ 0.,  0.,  0., ...,  0.,  0., 70.]),\n",
       " '102844212431975640': array([0., 0., 0., ..., 0., 0., 8.]),\n",
       " '102844224146472059': array([ 0.,  0.,  0., ...,  0.,  0., 37.]),\n",
       " '102844224146930812': array([ 0.,  0.,  0., ...,  0.,  0., 43.]),\n",
       " '102844224148503678': array([ 0.,  0.,  0., ...,  0.,  0., 27.]),\n",
       " '102844224148896895': array([ 0.,  0.,  0., ...,  0.,  0., 78.]),\n",
       " '102844235746868664': array([ 0.,  0.,  0., ...,  0.,  0., 45.]),\n",
       " '102844235747261881': array([ 0.,  0.,  0., ...,  0.,  0., 57.]),\n",
       " '102844235748310460': array([ 0.,  0.,  0., ...,  0.,  0., 71.]),\n",
       " '102844235748703677': array([ 0.,  0.,  0., ...,  0.,  0., 48.]),\n",
       " '102844235749031358': array([ 0.,  0.,  0., ...,  0.,  0., 47.]),\n",
       " '102844235749424575': array([ 0.,  0.,  0., ...,  0.,  0., 17.]),\n",
       " '102844235750997440': array([ 0.,  0.,  0., ...,  0.,  0., 35.]),\n",
       " '102844235751783874': array([ 0.,  0.,  0., ...,  0.,  0., 62.]),\n",
       " '102844235752963525': array([ 0.,  0.,  0., ...,  0.,  0., 53.]),\n",
       " '102844235753356742': array([ 0.,  0.,  0., ...,  0.,  0., 88.]),\n",
       " '102844283020453971': array([ 0.,  0.,  0., ...,  0.,  0., 40.]),\n",
       " '102844283023599703': array([ 0.,  0.,  0., ...,  0.,  0., 45.]),\n",
       " '102844283025696858': array([ 0.,  0.,  0., ...,  0.,  0., 53.]),\n",
       " '102844283027531868': array([ 0.,  0.,  0., ...,  0.,  0., 38.]),\n",
       " '102844283027925085': array([ 0.,  0.,  0., ...,  0.,  0., 70.]),\n",
       " '102844294666422466': array([ 0.,  0.,  0., ...,  0.,  0., 54.]),\n",
       " '102844294666881219': array([ 0.,  0.,  0., ...,  0.,  0., 21.]),\n",
       " '102844294669568199': array([ 0.,  0.,  0., ...,  0.,  0., 26.]),\n",
       " '102844294670026952': array([ 0.,  0.,  0., ...,  0.,  0., 44.]),\n",
       " '102844294670551241': array([ 0.,  0.,  0., ...,  0.,  0., 64.]),\n",
       " '102844294670878922': array([0., 0., 0., ..., 0., 0., 9.]),\n",
       " '102844294674286796': array([ 0.,  0.,  0., ...,  0.,  0., 53.]),\n",
       " '102844294674876621': array([ 0.,  0.,  0., ...,  0.,  0., 48.]),\n",
       " '102844341904683662': array([ 0.,  0.,  0., ...,  0.,  0., 60.]),\n",
       " '102844341905011343': array([ 0.,  0.,  0., ...,  0.,  0., 45.]),\n",
       " '102844341906649746': array([ 0.,  0.,  0., ...,  0.,  0., 58.]),\n",
       " '102844341907370644': array([ 0.,  0.,  0., ...,  0.,  0., 24.]),\n",
       " '102844341909598870': array([ 0.,  0.,  0., ...,  0.,  0., 63.]),\n",
       " '102844341912220311': array([ 0.,  0.,  0., ...,  0.,  0., 39.]),\n",
       " '102844401151219358': array([ 0.,  0.,  0., ...,  0.,  0., 48.]),\n",
       " '102844401152071328': array([ 0.,  0.,  0., ...,  0.,  0., 17.]),\n",
       " '102844401152857762': array([ 0.,  0.,  0., ...,  0.,  0., 49.]),\n",
       " '102844401153447587': array([ 0.,  0.,  0., ...,  0.,  0., 58.]),\n",
       " '102844401153971877': array([ 0.,  0.,  0., ...,  0.,  0., 18.]),\n",
       " '102844401154168486': array([ 0.,  0.,  0., ...,  0.,  0., 14.]),\n",
       " '102844401154430631': array([ 0.,  0.,  0., ...,  0.,  0., 64.]),\n",
       " '102844401155937960': array([ 0.,  0.,  0., ...,  0.,  0., 28.]),\n",
       " '102844412704496937': array([ 0.,  0.,  0., ...,  0.,  0., 54.]),\n",
       " '102844412705217835': array([ 0.,  0.,  0., ...,  0.,  0., 50.]),\n",
       " '102844412705545516': array([ 0.,  0.,  0., ...,  0.,  0., 24.]),\n",
       " '102844412706987311': array([ 0.,  0.,  0., ...,  0.,  0., 46.]),\n",
       " '102844412707380528': array([ 0.,  0.,  0., ...,  0.,  0., 60.]),\n",
       " '102844412709346612': array([ 0.,  0.,  0., ...,  0.,  0., 10.]),\n",
       " '102844412709674293': array([ 0.,  0.,  0., ...,  0.,  0., 58.]),\n",
       " '102844412710001974': array([  0.,   0.,   0., ...,   0.,   0., 107.]),\n",
       " '102844412711836986': array([ 0.,  0.,  0., ...,  0.,  0., 58.]),\n",
       " '102844412712164667': array([ 0.,  0.,  0., ...,  0.,  0., 69.]),\n",
       " '102844412716227901': array([ 0.,  0.,  0., ...,  0.,  0., 53.]),\n",
       " '102844412716686654': array([ 0.,  0.,  0., ...,  0.,  0., 43.]),\n",
       " '102844412717014335': array([ 0.,  0.,  0., ...,  0.,  0., 48.]),\n",
       " '102844412721339716': array([ 0.,  0.,  0., ...,  0.,  0., 60.]),\n",
       " '102844412722519367': array([ 0.,  0.,  0., ...,  0.,  0., 23.]),\n",
       " '102844412722847048': array([ 0.,  0.,  0., ...,  0.,  0., 59.]),\n",
       " '102844412723174729': array([ 0.,  0.,  0., ...,  0.,  0., 68.]),\n",
       " '102844412723567946': array([ 0.,  0.,  0., ...,  0.,  0., 86.]),\n",
       " '102979081290790284': array([ 0.,  0.,  0., ...,  0.,  0., 60.])}"
      ]
     },
     "execution_count": 25,
     "metadata": {},
     "output_type": "execute_result"
    }
   ],
   "source": [
    "label_train_before"
   ]
  },
  {
   "cell_type": "code",
   "execution_count": 26,
   "metadata": {
    "collapsed": true
   },
   "outputs": [],
   "source": [
    "with open('/home/ubuntu/gangmin/tsvt/multimodal/statistic/data_test.pickle',\"wb\") as f:\n",
    "    pickle.dump(data_test,f)\n",
    "with open('/home/ubuntu/gangmin/tsvt/multimodal/statistic/data_train.pickle',\"wb\") as f:\n",
    "    pickle.dump(data_train,f)\n",
    "with open('/home/ubuntu/gangmin/tsvt/multimodal/statistic/data_val.pickle',\"wb\") as f:\n",
    "    pickle.dump(data_val,f)\n",
    "with open('/home/ubuntu/gangmin/tsvt/multimodal/statistic/label_test_before.pickle',\"wb\") as f:\n",
    "    pickle.dump(label_test_before,f)\n",
    "with open('/home/ubuntu/gangmin/tsvt/multimodal/statistic/label_train_before.pickle',\"wb\") as f:\n",
    "    pickle.dump(label_train_before,f)\n",
    "with open('/home/ubuntu/gangmin/tsvt/multimodal/statistic/label_val_before.pickle',\"wb\") as f:\n",
    "    pickle.dump(label_val_before,f)\n",
    "with open('/home/ubuntu/gangmin/tsvt/multimodal/statistic/label_test_after.pickle',\"wb\") as f:\n",
    "    pickle.dump(label_test_after,f)\n",
    "with open('/home/ubuntu/gangmin/tsvt/multimodal/statistic/label_train_after.pickle',\"wb\") as f:\n",
    "    pickle.dump(label_train_after,f)\n",
    "with open('/home/ubuntu/gangmin/tsvt/multimodal/statistic/label_val_after.pickle',\"wb\") as f:\n",
    "    pickle.dump(label_val_after,f)"
   ]
  },
  {
   "cell_type": "code",
   "execution_count": null,
   "metadata": {
    "collapsed": true
   },
   "outputs": [],
   "source": []
  }
 ],
 "metadata": {
  "kernelspec": {
   "display_name": "Python 3",
   "language": "python",
   "name": "python3"
  },
  "language_info": {
   "codemirror_mode": {
    "name": "ipython",
    "version": 3
   },
   "file_extension": ".py",
   "mimetype": "text/x-python",
   "name": "python",
   "nbconvert_exporter": "python",
   "pygments_lexer": "ipython3",
   "version": "3.6.3"
  }
 },
 "nbformat": 4,
 "nbformat_minor": 2
}
