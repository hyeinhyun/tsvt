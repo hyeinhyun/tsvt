{
 "cells": [
  {
   "cell_type": "code",
   "execution_count": 1,
   "metadata": {
    "collapsed": true
   },
   "outputs": [],
   "source": [
    "import numpy as np\n",
    "import torch\n",
    "import string\n",
    "import torch.nn as nn\n",
    "from torch.autograd import Variable\n",
    "from torch.nn.utils.rnn import pad_packed_sequence as unpack\n",
    "from torch.nn.utils.rnn import pack_padded_sequence as pack\n",
    "import math\n",
    "import torch.utils.data as data\n",
    "import json\n",
    "import os\n",
    "import pandas as pd\n",
    "import random\n",
    "import copy\n",
    "import torch.utils.data.sampler as sampler\n",
    "import torch.optim.lr_scheduler as lr_scheduler\n",
    "import pickle\n"
   ]
  },
  {
   "cell_type": "code",
   "execution_count": 9,
   "metadata": {
    "collapsed": true
   },
   "outputs": [],
   "source": [
    "import torch.utils.data as data\n",
    "\n",
    "class Mul_data(data.Dataset):\n",
    "    def __init__(self,d_type):\n",
    "        self.d_type=d_type\n",
    "        if d_type=='train':\n",
    "            with open('../../data/chat_feature_train.json',\"rb\") as f1:  \n",
    "                self.chat_result=json.load(f1)\n",
    "        if d_type=='val':\n",
    "            with open('../../data/chat_feature_val.json',\"rb\") as f1:  \n",
    "                self.chat_result=json.load(f1)\n",
    "        if d_type=='test':\n",
    "            with open('../../data/chat_feature_test.json',\"rb\") as f1:  \n",
    "                self.chat_result=json.load(f1)\n",
    "                \n",
    "        if d_type=='train':\n",
    "            with open('./2features_winlossone2+ent_emd_undersampling/lstm_feature_train2.json',\"rb\") as f1:  \n",
    "                self.mul_result=json.load(f1)\n",
    "        if d_type=='val':\n",
    "            with open('./2features_winlossone2+ent_emd_undersampling/lstm_feature_val2.json',\"rb\") as f1:  \n",
    "                self.mul_result=json.load(f1)\n",
    "        if d_type=='test':\n",
    "            with open('./2features_winlossone2+ent_emd_undersampling/lstm_feature_test2.json',\"rb\") as f1:  \n",
    "                self.mul_result=json.load(f1)\n",
    "        \n",
    "        with open('../../data/video_statistic_features_one2.pickle',\"rb\") as f2:  \n",
    "            self.image_result=pickle.load(f2)\n",
    "        with open('../../data/audio_entropy_emd.pickle',\"rb\") as f3:  \n",
    "            self.audio_result=pickle.load(f3)\n",
    "        with open('../../label/label.pickle',\"rb\") as f4:  \n",
    "            self.real_result=pickle.load(f4)\n",
    "            \n",
    "        if d_type=='train':\n",
    "            self.sample = ['102844412722519367','102844212429550795','102844401151219358','102844401154430631','102844412717014335','102844401153971877','102844224148503678','102844412722847048','102844401152857762','102844412707380528','102844212431516886','102844283027925085','102844412716227901','102844412710001974','102844294670878922','102844294670551241','102844283023599703','102844412704496937','102844235751783874','102844401152071328','102844412709674293','102844401153447587','102844224148896895','102844235746868664','102979081290790284','102844283027531868','102844212431975640','102844401155937960','102844212429092040','102844341906649746','102844412706987311','102844412721339716','102844212430402768','102844341905011343','102844235753356742','102844235750997440','102844412709346612','102844412705217835','102844235752963525','102844412712164667','102844412705545516','102844341912220311','102844341907370644','102844235749424575','102844212429419722','102844294669568199','102844212431779031','102844294666422466','102844224146472059','102844212428895431','102844212429747404','102844235748703677','102844224146930812','102844212430730450','102844294674876621','102844341909598870','102844283020453971','102844294670026952','102844412723174729','102844341904683662','102844283025696858','102844235747261881','102844401154168486','102844235748310460','102844412711836986','102844412723567946','102844235749031358','102844294674286796','102844294666881219','102844412716686654']\n",
    "        if d_type=='val':\n",
    "            self.sample = ['102844294671796427','102844224145685626','102844412717407552','102844235751390657','102844401156069033','102904869420860038','102910307641576395','102844341905404560','102844341906977427','102844212430075086','102844412711116088','102844401153578660','102844294667405508','102844412706659630']\n",
    "        if d_type=='test':\n",
    "            self.sample = ['102844212431058132','102844341902586509','102844401152267937','102844212430927059','102844412708953395','102844212429944013','102844341912679064','102844235753749959','102844341908026005','102844283023206486','102844224147717245','102844412704890154','102844212430599377','102844412711443769','102844235747982779']\n",
    "            \n",
    "        self.WeightedSampling=[]\n",
    "        for i in self.sample:\n",
    "            self.WeightedSampling.extend(copy.copy(self.real_result[str(i)]))\n",
    "        \n",
    "        sampling = np.array(self.WeightedSampling)\n",
    "        neg_idx = np.where(sampling == 0)[0] #general\n",
    "        pos_idx = np.where(sampling == 1)[0] #highlight\n",
    "        sampling = sampling.astype(np.float32)\n",
    "        \n",
    "        sampling.fill(0)\n",
    "        sampling[neg_idx] = len(sampling) / float(len(neg_idx))\n",
    "       # self.WeightedSampling[pos_idx] = len(self.WeightedSampling) / float(len(pos_idx))\n",
    "        sampling[pos_idx] = len(sampling) / float(len(pos_idx))\n",
    "        self.WeightedSampling = sampling\n",
    "\n",
    "        \n",
    "        self.sum=np.insert(np.cumsum([len(self.chat_result[str(i)]) for i in self.sample]),0,0)\n",
    "        print(\"data load fin\")\n",
    "        \n",
    "    def __len__(self):\n",
    "        return len(self.WeightedSampling)\n",
    "    def __getitem__(self,index):\n",
    "            vid=np.histogram(index,self.sum)#sum으로 누적으로 히스토그램이 깔려있음/ 그중에 index의 위치\n",
    "            vid = np.where(vid[0]>0)[0][0]#몇번째 game을 쓸지!\n",
    "            vframe=index-self.sum[vid]#그 게임 안에서의 몇번째 프레임인지\n",
    "            game_id=str(self.sample[vid])\n",
    "\n",
    "            window=[]#batch*7(window size)*3(highlight result)\n",
    "            for idx in range(23): #7 : window size\n",
    "                s_window=[]\n",
    "                if vframe+idx<len(self.chat_result[game_id]):\n",
    "                    s_window+=((self.chat_result[game_id][vframe+idx]))#vframe의 chat\n",
    "                    s_window+=((self.mul_result[game_id][vframe+idx]))#vframe의 chat\n",
    "#                     s_window+=list(self.audio_result[game_id][(vframe+idx)*10:(vframe+idx+1)*10])#vframe의 audio\n",
    "#                     s_window+=[(self.image_result[game_id][vframe+idx])]#vframe의 image\n",
    "                else:\n",
    "                    #s_window=[0,0,0]#padding value\n",
    "                    s_window=[0]*151\n",
    "                window.append(s_window)\n",
    "\n",
    "\n",
    "            label=int(self.real_result[game_id][vframe])\n",
    "            return game_id,np.array(window),label"
   ]
  },
  {
   "cell_type": "code",
   "execution_count": 10,
   "metadata": {},
   "outputs": [
    {
     "name": "stdout",
     "output_type": "stream",
     "text": [
      "data load fin\n",
      "data load fin\n",
      "('102844412722519367', array([[-4.23758756e-03,  8.49383231e-03,  1.44858090e-02, ...,\n",
      "         1.79883003e-01, -5.41998923e-01, -2.68889725e-01],\n",
      "       [ 1.31821318e-04,  3.67566757e-03,  1.84836853e-02, ...,\n",
      "         1.79917172e-01, -5.41961610e-01, -2.68918127e-01],\n",
      "       [ 2.78287055e-03, -2.53155967e-03,  2.11640801e-02, ...,\n",
      "         1.80030495e-01, -5.41830301e-01, -2.68999457e-01],\n",
      "       ...,\n",
      "       [-9.56570916e-03,  2.41865851e-02,  5.35075879e-03, ...,\n",
      "         1.80051610e-01, -5.41826487e-01, -2.69014746e-01],\n",
      "       [-8.14033020e-03,  2.75277682e-02,  2.89613754e-03, ...,\n",
      "         1.79980800e-01, -5.41906893e-01, -2.68961966e-01],\n",
      "       [-7.51412148e-03,  2.00215783e-02,  8.99404753e-03, ...,\n",
      "         1.79909110e-01, -5.41985273e-01, -2.68909335e-01]]), 0)\n"
     ]
    }
   ],
   "source": [
    "train=Mul_data('train')\n",
    "val=Mul_data('val')\n",
    "print(train[100])\n",
    "sampler1 = torch.utils.data.sampler.WeightedRandomSampler(weights=train.WeightedSampling.tolist(), num_samples=44000)\n",
    "train_loader=torch.utils.data.DataLoader(train,batch_size=32,sampler=sampler1)\n",
    "# train_loader=torch.utils.data.DataLoader(train,batch_size=32)\n",
    "val_loader=torch.utils.data.DataLoader(val,batch_size=128)"
   ]
  },
  {
   "cell_type": "code",
   "execution_count": 11,
   "metadata": {
    "collapsed": true
   },
   "outputs": [],
   "source": [
    "input_size=151\n",
    "hidden_size=23\n",
    "length=7\n",
    "num_layers=3\n",
    "class LSTM(nn.Module):\n",
    "    def __init__(self):\n",
    "        super().__init__()\n",
    "        self._clf1 = nn.LSTM(input_size, hidden_size,3,batch_first=True)\n",
    "        self._lin = nn.Sequential(nn.Linear(hidden_size, hidden_size),\n",
    "                                 nn.Linear(hidden_size,2))\n",
    "\n",
    "    def forward(self, x):\n",
    "        x=x.cuda()\n",
    "        hidden = Variable(torch.zeros(num_layers,x.size(0),hidden_size)).cuda() # (num_layers * num_directions, batch, hidden_size)\n",
    "        cell = Variable(torch.zeros(num_layers,x.size(0),hidden_size)).cuda() # (num_layers * num_directions, batch, hidden_size)        out,hidden = self._clf1(x,h0)\n",
    "        out,hidden = self._clf1(x,(hidden,cell))#batch*7*3\n",
    "        out = self._lin(out[:,-1,:])\n",
    "        return out"
   ]
  },
  {
   "cell_type": "code",
   "execution_count": 12,
   "metadata": {
    "collapsed": true
   },
   "outputs": [],
   "source": [
    "model=LSTM().cuda()\n",
    "criterion = nn.CrossEntropyLoss().cuda()\n",
    "optimizer = torch.optim.SGD(model.parameters(), 0.01,momentum=0.9,weight_decay=1e-4)\n"
   ]
  },
  {
   "cell_type": "code",
   "execution_count": 13,
   "metadata": {
    "collapsed": true
   },
   "outputs": [],
   "source": [
    "class AverageMeter(object):\n",
    "    \"\"\"Computes and stores the average and current value\"\"\"\n",
    "    def __init__(self):\n",
    "        self.reset()\n",
    "\n",
    "    def reset(self):\n",
    "        self.val = 0\n",
    "        self.avg = 0\n",
    "        self.sum = 0\n",
    "        self.count = 0\n",
    "\n",
    "    def update(self, val, n=1):\n",
    "        self.val = val\n",
    "        self.sum += val * n\n",
    "        self.count += n\n",
    "        self.avg = self.sum / self.count"
   ]
  },
  {
   "cell_type": "code",
   "execution_count": null,
   "metadata": {},
   "outputs": [
    {
     "name": "stdout",
     "output_type": "stream",
     "text": [
      "0\n",
      "epoch 0 train_loss : 0 , val_loss : 0.5307913422584534,p 0.3963530269876003, r 0.5997792494481237, f 0.4772946859903382\n",
      "\n",
      "1\n",
      "epoch 1 train_loss : 0 , val_loss : 0.41070276498794556,p 0.6128314106456183, r 0.6684326710816777, f 0.6394256150353711\n",
      "\n",
      "2\n",
      "epoch 2 train_loss : 0 , val_loss : 0.4144194722175598,p 0.5733573357335734, r 0.7030905077262694, f 0.631631135349529\n",
      "\n",
      "3\n",
      "epoch 3 train_loss : 0 , val_loss : 0.3814842700958252,p 0.5876346082435945, r 0.6986754966887417, f 0.6383622428398548\n",
      "\n",
      "4\n",
      "epoch 4 train_loss : 0 , val_loss : 0.40126076340675354,p 0.5332905502968073, r 0.7337748344370861, f 0.6176716528848835\n",
      "\n",
      "5\n",
      "epoch 5 train_loss : 0 , val_loss : 0.39643919467926025,p 0.5026215105568939, r 0.7830022075055187, f 0.6122378527660309\n",
      "\n",
      "6\n",
      "epoch 6 train_loss : 0 , val_loss : 0.38437920808792114,p 0.5783947321587471, r 0.717439293598234, f 0.6404571879002857\n",
      "\n",
      "7\n",
      "epoch 7 train_loss : 0 , val_loss : 0.36845436692237854,p 0.5614782016348774, r 0.7278145695364239, f 0.6339165545087484\n",
      "\n",
      "8\n",
      "epoch 8 train_loss : 0 , val_loss : 0.3494764566421509,p 0.5834372217275156, r 0.7231788079470198, f 0.6458353868900937\n",
      "\n",
      "9\n",
      "epoch 9 train_loss : 0 , val_loss : 0.3389498293399811,p 0.5821504613200852, r 0.7242825607064017, f 0.6454849498327759\n",
      "\n",
      "10\n",
      "epoch 10 train_loss : 0 , val_loss : 0.3265119791030884,p 0.5780173175472698, r 0.7220750551876379, f 0.6420649720286584\n",
      "\n",
      "11\n",
      "epoch 11 train_loss : 0 , val_loss : 0.4128764867782593,p 0.5161336379211879, r 0.7980132450331126, f 0.626842379053234\n",
      "\n",
      "12\n",
      "epoch 12 train_loss : 0 , val_loss : 0.35199475288391113,p 0.5531094327494778, r 0.7598233995584989, f 0.6401934343904027\n",
      "\n",
      "13\n",
      "epoch 13 train_loss : 0 , val_loss : 0.3533172607421875,p 0.5522865366165653, r 0.7624724061810154, f 0.6405786350148367\n",
      "\n",
      "14\n",
      "epoch 14 train_loss : 0 , val_loss : 0.3691616952419281,p 0.5384970032272937, r 0.7735099337748345, f 0.6349551508562109\n",
      "\n",
      "15\n",
      "epoch 15 train_loss : 0 , val_loss : 0.3622871935367584,p 0.5697432338653713, r 0.7249448123620309, f 0.6380415776180299\n",
      "\n",
      "16\n",
      "epoch 16 train_loss : 0 , val_loss : 0.34312334656715393,p 0.5634721525338685, r 0.7437086092715232, f 0.6411647159577505\n",
      "\n",
      "17\n",
      "epoch 17 train_loss : 0 , val_loss : 0.3413669764995575,p 0.533976194063583, r 0.7823399558498896, f 0.6347273215724905\n",
      "\n",
      "18\n",
      "epoch 18 train_loss : 0 , val_loss : 0.3176557123661041,p 0.600668647845468, r 0.713907284768212, f 0.6524107322977607\n",
      "\n",
      "19\n",
      "epoch 19 train_loss : 0 , val_loss : 0.34484782814979553,p 0.5584562996594779, r 0.7602649006622516, f 0.6439188557539497\n",
      "\n",
      "20\n",
      "epoch 20 train_loss : 0 , val_loss : 0.32908913493156433,p 0.5710932260228034, r 0.7518763796909492, f 0.6491328378120831\n",
      "\n",
      "21\n",
      "epoch 21 train_loss : 0 , val_loss : 0.32451382279396057,p 0.5712331109970925, r 0.7373068432671082, f 0.6437313289004529\n",
      "\n",
      "22\n",
      "epoch 22 train_loss : 0 , val_loss : 0.371895432472229,p 0.5191812195820212, r 0.8006622516556291, f 0.6299062174366099\n",
      "\n",
      "23\n",
      "epoch 23 train_loss : 0 , val_loss : 0.3482140600681305,p 0.5385206827618022, r 0.7730684326710817, f 0.6348228043143298\n",
      "\n",
      "24\n",
      "epoch 24 train_loss : 0 , val_loss : 0.34600749611854553,p 0.543933708567855, r 0.7679911699779249, f 0.6368295808164012\n",
      "\n",
      "25\n",
      "epoch 25 train_loss : 0 , val_loss : 0.3259114623069763,p 0.5824391988555079, r 0.7189845474613686, f 0.6435487057893697\n",
      "\n",
      "26\n",
      "epoch 26 train_loss : 0 , val_loss : 0.33829113841056824,p 0.568415808701428, r 0.7556291390728477, f 0.648786959818044\n",
      "\n",
      "27\n",
      "epoch 27 train_loss : 0 , val_loss : 0.3330492377281189,p 0.5720743345052738, r 0.7543046357615895, f 0.6506712367894887\n",
      "\n",
      "28\n",
      "epoch 28 train_loss : 0 , val_loss : 0.3654818534851074,p 0.5272916048650252, r 0.7847682119205298, f 0.6307665010645848\n",
      "\n",
      "29\n",
      "epoch 29 train_loss : 0 , val_loss : 0.37647682428359985,p 0.5128710085806724, r 0.8048565121412804, f 0.6265143053526936\n",
      "\n",
      "30\n",
      "epoch 30 train_loss : 0 , val_loss : 0.37998005747795105,p 0.5134904856574837, r 0.798233995584989, f 0.6249567922571725\n",
      "\n",
      "31\n",
      "epoch 31 train_loss : 0 , val_loss : 0.3517634868621826,p 0.538863287250384, r 0.7743929359823399, f 0.6355072463768117\n",
      "\n",
      "32\n",
      "epoch 32 train_loss : 0 , val_loss : 0.436187744140625,p 0.486274004382008, r 0.8328918322295805, f 0.6140450809667182\n",
      "\n",
      "33\n"
     ]
    }
   ],
   "source": [
    "weight_dir='./2step_winloss_entemd+채팅_undersampling/'\n",
    "if not os.path.exists(weight_dir):\n",
    "    os.makedirs(weight_dir)\n",
    "with open(weight_dir+'train_result','a') as f:\n",
    "    f.write('=====result=======\\n')\n",
    "f1_best=0\n",
    "for epoch in range(200):\n",
    "    losses = AverageMeter()\n",
    "    top1 = AverageMeter()\n",
    "    print(epoch)\n",
    "    model.train()\n",
    "    for i, (g,inputs,labels) in enumerate(train_loader):\n",
    "        inputs=inputs.float()\n",
    "        inputs=inputs.cuda()\n",
    "        labels=labels.cuda()\n",
    "        optimizer.zero_grad()\n",
    "        out=model(inputs)\n",
    "        out=out.cuda()\n",
    "        loss=criterion(out,labels)\n",
    "        loss.backward()\n",
    "        optimizer.step()\n",
    "        \n",
    "    model.eval()\n",
    "    val_losses=AverageMeter()\n",
    "    acc=0\n",
    "    gt_sum=0\n",
    "    tp_sum=0\n",
    "    fp_sum=0\n",
    "    fn_sum=0\n",
    "    acc=0\n",
    "    sum=0\n",
    "    pred_sum=0\n",
    "    with open(weight_dir+'train_result','a') as f:\n",
    "\n",
    "        with torch.no_grad():\n",
    "            for it, (g,inputs,labels) in enumerate(val_loader):\n",
    "                inputs=inputs.float()\n",
    "                inputs=inputs.cuda()\n",
    "                labels=labels.cuda()\n",
    "                out=model(inputs)\n",
    "                out=out.cuda()\n",
    "                loss=criterion(out,labels)\n",
    "                val_losses.update(loss,labels.size(0))\n",
    "                TP,FP,TN,FN,pred_len, gt_len,pred=fmeasure(out.cpu(),labels.cpu())\n",
    "                tp_sum += TP\n",
    "                fp_sum += FP\n",
    "                fn_sum += FN\n",
    "                pred_sum += pred_len\n",
    "                gt_sum += gt_len\n",
    "                acc=acc+TP+TN\n",
    "                sum+=len(out)\n",
    "            if tp_sum>0 and fp_sum>0 and fn_sum>0:\n",
    "                precision = tp_sum/(tp_sum+fp_sum)\n",
    "                recall = tp_sum / (tp_sum+fn_sum)\n",
    "                f1 = (2*precision*recall / (precision + recall))\n",
    "                accuracy=acc/sum\n",
    "                print(\"epoch {} train_loss : {} , val_loss : {},p {}, r {}, f {}\\n\".format(epoch,losses.avg,val_losses.avg,precision,recall,f1))\n",
    "                f.write(\"epoch {} train_loss : {} , val_loss : {},p {}, r {}, f {}\\n\".format(epoch,losses.avg,val_losses.avg,precision,recall,f1))\n",
    "                torch.save(model.state_dict(),'{}'.format(weight_dir+str(epoch)+\"train\"))\n",
    "                if f1_best<f1:\n",
    "                    f.write(\"== best epoch {} train_loss : {} , val_loss : {},p {}, r {}, f {}\\n\".format(epoch,losses.avg,val_losses.avg,precision,recall,f1))\n",
    "                    torch.save(model.state_dict(),'{}'.format(weight_dir+\"best\"))\n",
    "                    f1_best=f1\n",
    "\n",
    "            else:\n",
    "                print(\"epoch {} train_loss : {} , val_loss : {},p {}, r {}, f {}\\n\".format(epoch,losses.avg,val_losses.avg,0,0,0))\n",
    "                f.write(\"epoch {} train_loss : {} , val_loss : {},p {}, r {}, f {}\\n\".format(epoch,losses.avg,val_losses.avg,0,0,0))\n",
    "                torch.save(model.state_dict(),'{}'.format(weight_dir+str(epoch)+\"train\"))                \n",
    "            \n",
    "\n",
    "\n",
    "\n",
    "\n",
    "\n"
   ]
  },
  {
   "cell_type": "code",
   "execution_count": null,
   "metadata": {
    "collapsed": true
   },
   "outputs": [],
   "source": [
    "weight_dir='./2features_winlossone2+채팅_undersampling/'\n",
    "\n",
    "\n",
    "test=Mul_data('test')\n",
    "test_loader=torch.utils.data.DataLoader(test,batch_size=32)\n",
    "dataset=weight_dir+'best'\n",
    "checkpoint=torch.load(dataset,map_location='cuda:0')\n",
    "model.load_state_dict(checkpoint)\n",
    "model.eval()\n",
    "pred_sum = 0#model output\n",
    "gt_sum = 0#label\n",
    "tp_sum=0\n",
    "fp_sum=0\n",
    "fn_sum=0\n",
    "acc=0\n",
    "sum=0\n",
    "result={}\n",
    "with torch.no_grad():\n",
    "    for it, (game_id,inputs,labels) in enumerate(test_loader):\n",
    "        inputs=inputs.float()\n",
    "        labels=labels\n",
    "        output=model(inputs)\n",
    "        TP,FP,TN,FN,pred_len, gt_len,pred=fmeasure(output.cpu(),labels.cpu())\n",
    "        for idx,g in enumerate(game_id):\n",
    "            if g not in result.keys():\n",
    "                result[g]=pred[idx].tolist()\n",
    "            else:\n",
    "                result[g]+=pred[idx].tolist()\n",
    "        print(TP,FP,TN,FN,pred_len, gt_len)\n",
    "        tp_sum += TP\n",
    "        fp_sum += FP\n",
    "        fn_sum += FN\n",
    "        pred_sum += pred_len\n",
    "        gt_sum += gt_len\n",
    "        acc=acc+TP+TN\n",
    "        sum+=len(output)\n",
    "    with open(weight_dir+'/train_result','a') as f:\n",
    "        if tp_sum>0 and fp_sum>0 and fn_sum>0:\n",
    "            precision = tp_sum/(tp_sum+fp_sum)\n",
    "            recall = tp_sum / (tp_sum+fn_sum)\n",
    "            f1 = (2*precision*recall / (precision + recall)) * 100\n",
    "            accuracy=acc/sum\n",
    "            print( tp_sum, fp_sum, fn_sum)\n",
    "            print('[{}/{}], prec:{}, recall:{}, f1:{}, acc: {}'.format(it, len(test_loader), precision, recall, f1,accuracy))\n",
    "            f.write('{}, prec:{}, recall:{}, f1:{}, acc : {}\\n'.format(dataset, precision, recall, f1,accuracy))"
   ]
  },
  {
   "cell_type": "code",
   "execution_count": 7,
   "metadata": {
    "collapsed": true
   },
   "outputs": [],
   "source": [
    "def fmeasure(output, target):\n",
    "    _, pred = output.topk(1, 1, True, True)\n",
    "    pred = pred.view(-1,1)\n",
    "    target = target.view(-1,1)\n",
    "\n",
    "    #overlap = ((pred== 1) + (target == 1)).gt(1)\n",
    "    #overlap = overlap.view(-1,1)\n",
    "    TP = len(np.where((pred==1)&(target==1)==True)[0]) # True positive\n",
    "    FP = len(np.where((pred==1)&(target==0)==True)[0]) # Condition positive = TP + FN\n",
    "    TN = len(np.where((pred==0)&(target==0)==True)[0])\n",
    "    FN = len(np.where((pred==0)&(target==1)==True)[0])\n",
    "\n",
    "    \n",
    "    #overlap_len = overlap.data.long().sum()\n",
    "    pred_len = pred.data.long().sum()\n",
    "    gt_len   =  target.data.long().sum()\n",
    "\n",
    "    return TP,FP,TN,FN,pred_len, gt_len,pred"
   ]
  },
  {
   "cell_type": "code",
   "execution_count": 14,
   "metadata": {},
   "outputs": [
    {
     "name": "stdout",
     "output_type": "stream",
     "text": [
      "102844212431058132\n",
      "precision : 0.573394495412844, recall : 0.6561679790026247, f1 : 0.6119951040391677, accuracy : 0.8713474025974026\n",
      "102844341902586509\n",
      "precision : 0.5576036866359447, recall : 0.9565217391304348, f1 : 0.7045123726346434, accuracy : 0.9050514499532273\n",
      "102844401152267937\n",
      "precision : 0.5817091454272864, recall : 0.9651741293532339, f1 : 0.725912067352666, accuracy : 0.8719965050240279\n",
      "102844212430927059\n",
      "precision : 0.6458885941644562, recall : 0.7378787878787879, f1 : 0.6888260254596889, accuracy : 0.884301866947147\n",
      "102844412708953395\n",
      "precision : 0.6014851485148515, recall : 0.8804347826086957, f1 : 0.7147058823529412, accuracy : 0.9056420233463035\n",
      "102844212429944013\n",
      "precision : 0.5957446808510638, recall : 0.9056603773584906, f1 : 0.7187165775401069, accuracy : 0.8714565004887586\n",
      "102844341912679064\n",
      "precision : 0.6101694915254238, recall : 0.7964601769911505, f1 : 0.690978886756238, accuracy : 0.9170103092783505\n",
      "102844235753749959\n",
      "precision : 0.5171503957783641, recall : 0.49872773536895676, f1 : 0.5077720207253886, accuracy : 0.8285198555956679\n",
      "102844341908026005\n",
      "precision : 0.5812379110251451, recall : 0.9119878603945372, f1 : 0.7099822799763733, accuracy : 0.8316763798423037\n",
      "102844283023206486\n",
      "precision : 0.5542763157894737, recall : 0.9439775910364145, f1 : 0.6984455958549223, accuracy : 0.8411572052401747\n",
      "102844224147717245\n",
      "precision : 0.6449438202247191, recall : 0.9258064516129032, f1 : 0.7602649006622516, accuracy : 0.9013086150490731\n",
      "102844412704890154\n",
      "precision : 0.6482412060301508, recall : 0.8403908794788274, f1 : 0.7319148936170213, accuracy : 0.9089156626506024\n",
      "102844212430599377\n",
      "precision : 0.5503597122302158, recall : 0.6483050847457628, f1 : 0.595330739299611, accuracy : 0.9109207708779443\n",
      "102844412711443769\n",
      "precision : 0.7454323995127893, recall : 0.9026548672566371, f1 : 0.8165443629086058, accuracy : 0.8919025157232704\n",
      "102844235747982779\n",
      "precision : 0.6513002364066194, recall : 0.76, f1 : 0.7014640356460853, accuracy : 0.8280791788856305\n",
      "==precision : 0.6039291493019564, recall : 0.8220098961478304, f1 : 0.6918243829883808, accuracy : 0.8779524160999923\n"
     ]
    }
   ],
   "source": [
    "def fmeasure2(frames,label):\n",
    "    average = [0,0,0,0,0]\n",
    "    for key in frames.keys():\n",
    "        TP = len(np.where((np.array(frames[key])==1)&(label[key]==1)==True)[0])\n",
    "        FP = len(np.where((np.array(frames[key])==1)&(label[key]==0)==True)[0])\n",
    "        TN = len(np.where((np.array(frames[key])==0)&(label[key]==0)==True)[0])\n",
    "        FN = len(np.where((np.array(frames[key])==0)&(label[key]==1)==True)[0])\n",
    "        precision = TP/(TP+FP)\n",
    "        recall = TP/(TP+FN)\n",
    "        accuracy = (TP+TN)/(TP+FN+FP+TN)\n",
    "        if precision==0 and recall == 0:\n",
    "            print('!')\n",
    "        else:\n",
    "            f1 = (2*precision*recall / (precision + recall))\n",
    "            print(key)\n",
    "            print('precision : {}, recall : {}, f1 : {}, accuracy : {}'.format(precision,recall,f1,accuracy))\n",
    "            average[0]+= precision\n",
    "            average[1]+= recall\n",
    "            average[2]+= f1\n",
    "            average[3]+= accuracy\n",
    "            average[4]+=1\n",
    "    print('==precision : {}, recall : {}, f1 : {}, accuracy : {}'.format(average[0]/average[4],average[1]/average[4],average[2]/average[4],average[3]/average[4]))\n",
    "with open('../../label/label.pickle',\"rb\") as f4:  \n",
    "    real_result=pickle.load(f4)\n",
    "fmeasure2(result,real_result)"
   ]
  },
  {
   "cell_type": "code",
   "execution_count": 10,
   "metadata": {
    "collapsed": true
   },
   "outputs": [],
   "source": [
    "a=torch.transpose(b,1,2)"
   ]
  },
  {
   "cell_type": "code",
   "execution_count": 11,
   "metadata": {},
   "outputs": [
    {
     "data": {
      "text/plain": [
       "tensor([[[0.1380, 0.0111],\n",
       "         [0.8294, 0.4059],\n",
       "         [0.0521, 0.1911]]])"
      ]
     },
     "execution_count": 11,
     "metadata": {},
     "output_type": "execute_result"
    }
   ],
   "source": [
    "a"
   ]
  },
  {
   "cell_type": "code",
   "execution_count": 11,
   "metadata": {
    "collapsed": true
   },
   "outputs": [],
   "source": [
    "x=[]"
   ]
  },
  {
   "cell_type": "code",
   "execution_count": 9,
   "metadata": {
    "collapsed": true
   },
   "outputs": [],
   "source": [
    "with open('../data/chat_feature_pred_128_train.json',\"rb\") as f1:  \n",
    "    chat_result=json.load(f1)"
   ]
  },
  {
   "cell_type": "code",
   "execution_count": 24,
   "metadata": {},
   "outputs": [
    {
     "data": {
      "text/plain": [
       "1654"
      ]
     },
     "execution_count": 24,
     "metadata": {},
     "output_type": "execute_result"
    }
   ],
   "source": [
    "len(chat_result['102844235753356742'])"
   ]
  },
  {
   "cell_type": "code",
   "execution_count": 21,
   "metadata": {
    "collapsed": true
   },
   "outputs": [],
   "source": [
    "        with open('../data/audio_energy_2_normaized.pickle',\"rb\") as f3:  \n",
    "            audio_result=pickle.load(f3)"
   ]
  },
  {
   "cell_type": "code",
   "execution_count": 25,
   "metadata": {},
   "outputs": [
    {
     "data": {
      "text/plain": [
       "4.277879204882054e-07"
      ]
     },
     "execution_count": 25,
     "metadata": {},
     "output_type": "execute_result"
    }
   ],
   "source": [
    "audio_result['102844235753356742'][1]"
   ]
  },
  {
   "cell_type": "code",
   "execution_count": 8,
   "metadata": {
    "collapsed": true
   },
   "outputs": [],
   "source": [
    "        with open('../data/audio_H.pickle',\"rb\") as f2:  \n",
    "            image_result=pickle.load(f2)"
   ]
  },
  {
   "cell_type": "code",
   "execution_count": 10,
   "metadata": {},
   "outputs": [
    {
     "data": {
      "text/plain": [
       "16571"
      ]
     },
     "execution_count": 10,
     "metadata": {},
     "output_type": "execute_result"
    }
   ],
   "source": [
    "len(image_result['102844235753356742'])"
   ]
  },
  {
   "cell_type": "code",
   "execution_count": null,
   "metadata": {
    "collapsed": true
   },
   "outputs": [],
   "source": []
  }
 ],
 "metadata": {
  "kernelspec": {
   "display_name": "hyein",
   "language": "python",
   "name": "hyein"
  },
  "language_info": {
   "codemirror_mode": {
    "name": "ipython",
    "version": 3
   },
   "file_extension": ".py",
   "mimetype": "text/x-python",
   "name": "python",
   "nbconvert_exporter": "python",
   "pygments_lexer": "ipython3",
   "version": "3.6.3"
  }
 },
 "nbformat": 4,
 "nbformat_minor": 2
}
