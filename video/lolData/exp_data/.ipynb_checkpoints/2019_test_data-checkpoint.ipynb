{
 "cells": [
  {
   "cell_type": "markdown",
   "metadata": {},
   "source": [
    "# 경기 아이디 추출"
   ]
  },
  {
   "cell_type": "code",
   "execution_count": 1,
   "metadata": {
    "collapsed": true
   },
   "outputs": [],
   "source": [
    "key = '0TvQnueqKa5mxJntVWt0w4LpLfEkrV1Ta8rQBb9Z'"
   ]
  },
  {
   "cell_type": "code",
   "execution_count": 2,
   "metadata": {},
   "outputs": [
    {
     "data": {
      "text/plain": [
       "{'data': {'leagues': [{'id': '100695891328981122',\n",
       "    'image': 'http://static.lolesports.com/leagues/1585044513499_EM_BUG_2020%20(1).png',\n",
       "    'name': 'European Masters',\n",
       "    'priority': 215,\n",
       "    'region': '유럽',\n",
       "    'slug': 'european-masters'},\n",
       "   {'id': '101097443346691685',\n",
       "    'image': 'http://static.lolesports.com/leagues/1592516072459_TAL-01-FullonDark.png',\n",
       "    'name': 'TAL',\n",
       "    'priority': 1000,\n",
       "    'region': '터키',\n",
       "    'slug': 'turkey-academy-league'},\n",
       "   {'id': '101382741235120470',\n",
       "    'image': 'http://static.lolesports.com/leagues/1592516315279_LLA-01-FullonDark.png',\n",
       "    'name': 'Liga Latinoamérica',\n",
       "    'priority': 209,\n",
       "    'region': '라틴 아메리카',\n",
       "    'slug': 'lla'},\n",
       "   {'id': '104366947889790212',\n",
       "    'image': 'http://static.lolesports.com/leagues/1592515942679_PCS-01-FullonDark.png',\n",
       "    'name': 'PCS',\n",
       "    'priority': 1000,\n",
       "    'region': '홍콩, 마카오, 대만',\n",
       "    'slug': 'pcs'},\n",
       "   {'id': '98767975604431411',\n",
       "    'image': 'http://static.lolesports.com/leagues/1592594612171_WorldsDarkBG.png',\n",
       "    'name': '월드 챔피언십',\n",
       "    'priority': 0,\n",
       "    'region': '국제 대회',\n",
       "    'slug': 'worlds'},\n",
       "   {'id': '98767991295297326',\n",
       "    'image': 'http://static.lolesports.com/leagues/1592594737227_ASEDarkBG.png',\n",
       "    'name': '올스타전',\n",
       "    'priority': 213,\n",
       "    'region': '국제 대회',\n",
       "    'slug': 'all-star'},\n",
       "   {'id': '98767991299243165',\n",
       "    'image': 'http://static.lolesports.com/leagues/1592516141735_LCS-01-FullonDark.png',\n",
       "    'name': 'LCS',\n",
       "    'priority': 203,\n",
       "    'region': '북미',\n",
       "    'slug': 'lcs'},\n",
       "   {'id': '98767991302996019',\n",
       "    'image': 'http://static.lolesports.com/leagues/1592516184297_LEC-01-FullonDark.png',\n",
       "    'name': 'LEC',\n",
       "    'priority': 202,\n",
       "    'region': '유럽',\n",
       "    'slug': 'lec'},\n",
       "   {'id': '98767991310872058',\n",
       "    'image': 'http://static.lolesports.com/leagues/1592516205122_LCK-01-FullonDark.png',\n",
       "    'name': 'LCK',\n",
       "    'priority': 1,\n",
       "    'region': '한국',\n",
       "    'slug': 'lck'},\n",
       "   {'id': '98767991314006698',\n",
       "    'image': 'http://static.lolesports.com/leagues/1592516115322_LPL-01-FullonDark.png',\n",
       "    'name': 'LPL',\n",
       "    'priority': 201,\n",
       "    'region': '중국',\n",
       "    'slug': 'lpl'},\n",
       "   {'id': '98767991325878492',\n",
       "    'image': 'http://static.lolesports.com/leagues/1592594634248_MSIDarkBG.png',\n",
       "    'name': 'MSI',\n",
       "    'priority': 212,\n",
       "    'region': '국제 대회',\n",
       "    'slug': 'msi'},\n",
       "   {'id': '98767991331560952',\n",
       "    'image': 'https://lolstatic-a.akamaihd.net/esports-assets/production/league/oce-opl-e0qfb3l8.png',\n",
       "    'name': 'OPL',\n",
       "    'priority': 210,\n",
       "    'region': '오세아니아',\n",
       "    'slug': 'oce-opl'},\n",
       "   {'id': '98767991332355509',\n",
       "    'image': 'http://static.lolesports.com/leagues/1592516282648_CBLOL-01-FullonDark.png',\n",
       "    'name': 'CBLOL',\n",
       "    'priority': 208,\n",
       "    'region': '브라질',\n",
       "    'slug': 'cblol-brazil'},\n",
       "   {'id': '98767991343597634',\n",
       "    'image': 'https://lolstatic-a.akamaihd.net/esports-assets/production/league/turkiye-sampiyonluk-ligi-8r9ofb9.png',\n",
       "    'name': 'TCL',\n",
       "    'priority': 207,\n",
       "    'region': '터키',\n",
       "    'slug': 'turkiye-sampiyonluk-ligi'},\n",
       "   {'id': '98767991349978712',\n",
       "    'image': 'http://static.lolesports.com/leagues/1592516354053_LJL-01-FullonDark.png',\n",
       "    'name': 'LJL',\n",
       "    'priority': 206,\n",
       "    'region': '일본',\n",
       "    'slug': 'ljl-japan'},\n",
       "   {'id': '99332500638116286',\n",
       "    'image': 'https://lolstatic-a.akamaihd.net/esports-assets/production/league/lcs-academy-4o8goq8n.png',\n",
       "    'name': '북미 아카데미',\n",
       "    'priority': 205,\n",
       "    'region': '북미',\n",
       "    'slug': 'lcs-academy'}]}}"
      ]
     },
     "execution_count": 2,
     "metadata": {},
     "output_type": "execute_result"
    }
   ],
   "source": [
    "import requests\n",
    "header = {'x-api-key':key}\n",
    "\n",
    "leagues = 'https://esports-api.lolesports.com/persisted/gw/getLeagues?hl=ko-KR'\n",
    "r = requests.get(leagues,headers = header)\n",
    "data = r.json()\n",
    "data"
   ]
  },
  {
   "cell_type": "code",
   "execution_count": 6,
   "metadata": {},
   "outputs": [
    {
     "data": {
      "text/plain": [
       "{'data': {'leagues': [{'tournaments': [{'endDate': '2018-11-03',\n",
       "      'id': '100783238182986407',\n",
       "      'slug': 'world_championship_2018',\n",
       "      'startDate': '2018-10-01'},\n",
       "     {'endDate': '2019-11-10',\n",
       "      'id': '102804906674705057',\n",
       "      'slug': 'world_championship_2019',\n",
       "      'startDate': '2019-10-02'},\n",
       "     {'endDate': '2020-10-31',\n",
       "      'id': '104841804583318464',\n",
       "      'slug': 'worlds_2020',\n",
       "      'startDate': '2020-09-25'},\n",
       "     {'endDate': '2017-11-04',\n",
       "      'id': '98767991971246908',\n",
       "      'slug': 'world_championship_2017',\n",
       "      'startDate': '2017-09-22'}]}]}}"
      ]
     },
     "execution_count": 6,
     "metadata": {},
     "output_type": "execute_result"
    }
   ],
   "source": [
    "\n",
    "match_list_18 = []\n",
    "header = {'x-api-key':key}\n",
    "param = {'leagueId':98767975604431411}\n",
    "\n",
    "leagues = 'https://esports-api.lolesports.com/persisted/gw/getTournamentsForLeague?hl=ko-KR'\n",
    "r = requests.get(leagues,headers = header,params = param)\n",
    "data = r.json()\n",
    "data"
   ]
  },
  {
   "cell_type": "code",
   "execution_count": 13,
   "metadata": {
    "collapsed": true
   },
   "outputs": [],
   "source": [
    "#get events(all match in tournament)\n",
    "header = {'x-api-key':key}\n",
    "#param = {'tournamentId':102804906674705057}\n",
    "param = {'tournamentId':98767991971246908}\n",
    "\n",
    "leagues = 'https://esports-api.lolesports.com/persisted/gw/getCompletedEvents?hl=ko-KR'\n",
    "r = requests.get(leagues,headers = header,params = param)\n",
    "data = r.json()"
   ]
  },
  {
   "cell_type": "code",
   "execution_count": 14,
   "metadata": {},
   "outputs": [
    {
     "data": {
      "text/plain": [
       "{'data': {'schedule': {'events': []}}}"
      ]
     },
     "execution_count": 14,
     "metadata": {},
     "output_type": "execute_result"
    }
   ],
   "source": [
    "data"
   ]
  },
  {
   "cell_type": "code",
   "execution_count": 9,
   "metadata": {
    "collapsed": true
   },
   "outputs": [],
   "source": [
    "#world championship games list\n",
    "game_list = []"
   ]
  },
  {
   "cell_type": "code",
   "execution_count": 10,
   "metadata": {
    "collapsed": true
   },
   "outputs": [],
   "source": [
    "for i in data['data']['schedule']['events']:\n",
    "    temp = []\n",
    "    temp.append(i['startTime'])\n",
    "    for j in i['games']:\n",
    "        if len(j['vods']) is not 0:\n",
    "            temp.append(j['id'])\n",
    "    game_list.append(temp)"
   ]
  },
  {
   "cell_type": "code",
   "execution_count": 11,
   "metadata": {
    "collapsed": true,
    "scrolled": false
   },
   "outputs": [],
   "source": [
    "#game_list"
   ]
  },
  {
   "cell_type": "code",
   "execution_count": 12,
   "metadata": {
    "collapsed": true
   },
   "outputs": [],
   "source": [
    "multi = []\n",
    "single = []"
   ]
  },
  {
   "cell_type": "code",
   "execution_count": 13,
   "metadata": {
    "collapsed": true
   },
   "outputs": [],
   "source": [
    "for i in range(len(game_list)):\n",
    "    if len(game_list[i])>2:\n",
    "        multi.append(game_list[i])\n",
    "    else:\n",
    "        single.append(game_list[i])"
   ]
  },
  {
   "cell_type": "code",
   "execution_count": 13,
   "metadata": {},
   "outputs": [
    {
     "data": {
      "text/plain": [
       "['2019-10-04T17:00:00Z', '102905919916854804']"
      ]
     },
     "execution_count": 13,
     "metadata": {},
     "output_type": "execute_result"
    }
   ],
   "source": [
    "single.pop(19)"
   ]
  },
  {
   "cell_type": "markdown",
   "metadata": {},
   "source": [
    "# 경기 기록 추출"
   ]
  },
  {
   "cell_type": "markdown",
   "metadata": {},
   "source": [
    "## single game 추출"
   ]
  },
  {
   "cell_type": "code",
   "execution_count": 23,
   "metadata": {
    "collapsed": true
   },
   "outputs": [],
   "source": [
    "import pandas as pd\n",
    "import numpy as np\n",
    "import time"
   ]
  },
  {
   "cell_type": "code",
   "execution_count": 24,
   "metadata": {
    "collapsed": true
   },
   "outputs": [],
   "source": [
    "gamedata = {}"
   ]
  },
  {
   "cell_type": "code",
   "execution_count": 16,
   "metadata": {
    "collapsed": true
   },
   "outputs": [],
   "source": [
    "single = list(map(lambda x : [x[0][:-1]+'.00Z',x[1]],single))"
   ]
  },
  {
   "cell_type": "code",
   "execution_count": 17,
   "metadata": {},
   "outputs": [
    {
     "data": {
      "text/plain": [
       "['2019-10-20T17:00:00.00Z', '102844401152857762']"
      ]
     },
     "execution_count": 17,
     "metadata": {},
     "output_type": "execute_result"
    }
   ],
   "source": [
    "single[-1]"
   ]
  },
  {
   "cell_type": "code",
   "execution_count": 305,
   "metadata": {
    "scrolled": false
   },
   "outputs": [
    {
     "name": "stdout",
     "output_type": "stream",
     "text": [
      "finish\n",
      "finish\n",
      "finish\n",
      "finish\n",
      "finish\n",
      "finish\n",
      "finish\n",
      "finish\n",
      "finish\n",
      "finish\n",
      "finish\n",
      "finish\n",
      "finish\n",
      "finish\n",
      "finish\n",
      "finish\n",
      "finish\n",
      "finish\n",
      "finish\n",
      "finish\n",
      "finish\n",
      "finish\n",
      "finish\n",
      "finish\n",
      "finish\n",
      "finish\n",
      "finish\n",
      "finish\n",
      "finish\n",
      "finish\n",
      "finish\n",
      "finish\n",
      "finish\n",
      "finish\n",
      "finish\n",
      "finish\n",
      "finish\n",
      "finish\n",
      "finish\n",
      "finish\n",
      "finish\n",
      "finish\n",
      "finish\n",
      "finish\n",
      "finish\n",
      "finish\n",
      "finish\n",
      "finish\n",
      "finish\n",
      "finish\n",
      "finish\n",
      "finish\n",
      "finish\n",
      "finish\n",
      "finish\n",
      "finish\n",
      "finish\n",
      "finish\n",
      "finish\n",
      "finish\n",
      "finish\n",
      "finish\n",
      "finish\n",
      "finish\n",
      "finish\n",
      "finish\n",
      "finish\n",
      "finish\n",
      "finish\n",
      "finish\n",
      "finish\n",
      "finish\n",
      "finish\n",
      "finish\n",
      "finish\n",
      "finish\n"
     ]
    }
   ],
   "source": [
    "#get window\n",
    "import datetime\n",
    "header = {'x-api-key':key}\n",
    "\n",
    "\n",
    "\n",
    "for single_game in single:\n",
    "    \n",
    "    timeframe = pd.DataFrame(np.zeros((0,2)))\n",
    "    timeframe.columns = ['Time','frame']\n",
    "    \n",
    "    first = 0\n",
    "    index = 0\n",
    "    seconds = 0\n",
    "    last = 0\n",
    "    dead = 0\n",
    "    while dead == 0 :\n",
    "        \n",
    "        try:\n",
    "            if first == 0:\n",
    "                startT = single_game[0]\n",
    "                timeT = datetime.datetime.strptime(startT, \"%Y-%m-%dT%H:%M:%S.%fZ\")\n",
    "                timeT = timeT - datetime.timedelta(hours=1)\n",
    "                first +=1\n",
    "            else:\n",
    "                if seconds == 0 :\n",
    "                    timeT = timeT + datetime.timedelta(minutes=1)\n",
    "                else:\n",
    "                    timeT = timeT + datetime.timedelta(seconds=10)\n",
    "            param = {'id':single_game[1],'startingTime':str(timeT.strftime(\"%Y-%m-%dT%H:%M:%S.%fZ\"))}\n",
    "            \n",
    "            leagues = 'https://feed.lolesports.com/livestats/v1/window/'+str(param['id'])\n",
    "            r = requests.get(leagues,headers = header,params = param)\n",
    "            data = r.json()\n",
    "            for i in range(len(data['frames'])):\n",
    "                if len(data['frames'][i]['rfc460Timestamp']) == 20:\n",
    "                    data['frames'][i]['rfc460Timestamp'] = data['frames'][i]['rfc460Timestamp'][:-1]+'.00Z'\n",
    "\n",
    "                tempTime = datetime.datetime.strptime(data['frames'][i]['rfc460Timestamp'], \"%Y-%m-%dT%H:%M:%S.%fZ\")\n",
    "\n",
    "                check = str(tempTime.hour)+'-'+str(tempTime.minute)+'-'+str(tempTime.second)\n",
    "\n",
    "                if data['frames'][i]['gameState']=='finished':\n",
    "                    dead = 1\n",
    "                    if check in list(timeframe['Time']):\n",
    "                        timeframe.loc[index-1] = check,data['frames'][i]\n",
    "                        continue\n",
    "                \n",
    "                if  check not in list(timeframe['Time']):\n",
    "                    timeframe.loc[index] = check,data['frames'][i]\n",
    "                    index += 1\n",
    "                \n",
    "            if seconds == 0:\n",
    "                timeT = timeT - datetime.timedelta(minutes=1)\n",
    "                timeframe = pd.DataFrame(np.zeros((0,2)))\n",
    "                timeframe.columns = ['Time','frame']\n",
    "                seconds =1\n",
    "            \n",
    "        except Exception as e:\n",
    "            pass\n",
    "    gamedata[single_game[1]] = timeframe\n",
    "    print('finish')"
   ]
  },
  {
   "cell_type": "code",
   "execution_count": null,
   "metadata": {
    "collapsed": true
   },
   "outputs": [],
   "source": [
    "for i in range(len(gamedata)):\n",
    "    print(gamedata[single[i][1]]['frame'].iloc[[0]].values[0]['blueTeam']['totalGold'])\n",
    "    print(gamedata[single[i][1]]['frame'].iloc[[-1]].values[0]['gameState'])"
   ]
  },
  {
   "cell_type": "markdown",
   "metadata": {},
   "source": [
    "# multidata 추출"
   ]
  },
  {
   "cell_type": "code",
   "execution_count": 43,
   "metadata": {
    "collapsed": true
   },
   "outputs": [],
   "source": [
    "gamedata = {}"
   ]
  },
  {
   "cell_type": "code",
   "execution_count": 21,
   "metadata": {
    "collapsed": true
   },
   "outputs": [],
   "source": [
    "multi = list(map(lambda x : [x[0][:-1]+'.00Z']+x[1:],multi))"
   ]
  },
  {
   "cell_type": "code",
   "execution_count": 34,
   "metadata": {},
   "outputs": [
    {
     "name": "stdout",
     "output_type": "stream",
     "text": [
      "finish\n",
      "finish\n",
      "finish\n",
      "finish\n",
      "finish\n",
      "finish\n",
      "finish\n",
      "finish\n",
      "finish\n",
      "finish\n",
      "finish\n",
      "finish\n",
      "finish\n",
      "finish\n",
      "finish\n",
      "finish\n",
      "finish\n",
      "finish\n",
      "finish\n",
      "finish\n",
      "finish\n",
      "finish\n",
      "finish\n",
      "finish\n",
      "finish\n",
      "finish\n",
      "finish\n",
      "finish\n",
      "finish\n",
      "finish\n",
      "finish\n",
      "finish\n",
      "finish\n",
      "finish\n",
      "finish\n",
      "finish\n",
      "finish\n",
      "finish\n",
      "finish\n",
      "finish\n",
      "finish\n",
      "finish\n",
      "finish\n"
     ]
    }
   ],
   "source": [
    "#get window\n",
    "import datetime\n",
    "header = {'x-api-key':key}\n",
    "\n",
    "\n",
    "\n",
    "for multi_game in multi:\n",
    "    \n",
    "    first = 0\n",
    "    for gameIndex in range(1,len(multi_game)):\n",
    "        timeframe = pd.DataFrame(np.zeros((0,2)))\n",
    "        timeframe.columns = ['Time','frame']\n",
    "\n",
    "        index = 0\n",
    "        seconds = 0\n",
    "        last = 0\n",
    "        dead = 0\n",
    "        while dead == 0 :\n",
    "\n",
    "            try:\n",
    "                if first == 0:\n",
    "                    startT = multi_game[0]\n",
    "                    timeT = datetime.datetime.strptime(startT, \"%Y-%m-%dT%H:%M:%S.%fZ\")\n",
    "                    timeT = timeT - datetime.timedelta(hours=1)\n",
    "                    first +=1\n",
    "                else:\n",
    "                    if seconds == 0 :\n",
    "                        timeT = timeT + datetime.timedelta(minutes=1)\n",
    "                    else:\n",
    "                        timeT = timeT + datetime.timedelta(seconds=10)\n",
    "                param = {'id':multi_game[gameIndex],'startingTime':str(timeT.strftime(\"%Y-%m-%dT%H:%M:%S.%fZ\"))}\n",
    "\n",
    "                leagues = 'https://feed.lolesports.com/livestats/v1/window/'+str(param['id'])\n",
    "                r = requests.get(leagues,headers = header,params = param)\n",
    "                data = r.json()\n",
    "                for i in range(len(data['frames'])):\n",
    "                    if len(data['frames'][i]['rfc460Timestamp']) == 20:\n",
    "                        data['frames'][i]['rfc460Timestamp'] = data['frames'][i]['rfc460Timestamp'][:-1]+'.00Z'\n",
    "\n",
    "                    tempTime = datetime.datetime.strptime(data['frames'][i]['rfc460Timestamp'], \"%Y-%m-%dT%H:%M:%S.%fZ\")\n",
    "\n",
    "                    check = str(tempTime.hour)+'-'+str(tempTime.minute)+'-'+str(tempTime.second)\n",
    "\n",
    "                    if data['frames'][i]['gameState']=='finished':\n",
    "                        second = 0\n",
    "                        dead = 1\n",
    "                        if check in list(timeframe['Time']):\n",
    "                            timeframe.loc[index-1] = check,data['frames'][i]\n",
    "                            continue\n",
    "\n",
    "                    if  check not in list(timeframe['Time']):\n",
    "                        timeframe.loc[index] = check,data['frames'][i]\n",
    "                        index += 1\n",
    "\n",
    "                if seconds == 0 and dead == 0:\n",
    "                    timeT = timeT - datetime.timedelta(minutes=1)\n",
    "                    timeframe = pd.DataFrame(np.zeros((0,2)))\n",
    "                    timeframe.columns = ['Time','frame']\n",
    "                    seconds =1\n",
    "\n",
    "            except Exception as e:\n",
    "                pass\n",
    "        gamedata[multi_game[gameIndex]] = timeframe\n",
    "        print('finish')"
   ]
  },
  {
   "cell_type": "code",
   "execution_count": 47,
   "metadata": {},
   "outputs": [
    {
     "name": "stdout",
     "output_type": "stream",
     "text": [
      "0\n",
      "finished\n",
      "0\n",
      "finished\n",
      "0\n",
      "finished\n",
      "0\n",
      "finished\n",
      "0\n",
      "finished\n",
      "0\n",
      "finished\n",
      "0\n",
      "finished\n",
      "0\n",
      "finished\n",
      "0\n",
      "finished\n",
      "0\n",
      "finished\n",
      "0\n",
      "finished\n",
      "0\n",
      "finished\n",
      "0\n",
      "finished\n",
      "0\n",
      "finished\n",
      "0\n",
      "finished\n",
      "0\n",
      "finished\n",
      "0\n",
      "finished\n",
      "0\n",
      "finished\n",
      "0\n",
      "finished\n",
      "0\n",
      "finished\n",
      "0\n",
      "finished\n",
      "0\n",
      "finished\n",
      "0\n",
      "finished\n",
      "0\n",
      "finished\n",
      "0\n",
      "finished\n",
      "0\n",
      "finished\n",
      "0\n",
      "finished\n",
      "0\n",
      "finished\n",
      "0\n",
      "finished\n",
      "0\n",
      "finished\n",
      "0\n",
      "finished\n",
      "0\n",
      "finished\n",
      "0\n",
      "finished\n",
      "0\n",
      "finished\n",
      "0\n",
      "finished\n",
      "0\n",
      "finished\n",
      "0\n",
      "finished\n",
      "0\n",
      "finished\n",
      "0\n",
      "finished\n",
      "0\n",
      "finished\n",
      "0\n",
      "finished\n",
      "0\n",
      "finished\n",
      "0\n",
      "finished\n"
     ]
    }
   ],
   "source": [
    "for i in range(len(multi)):\n",
    "    #print(multi[i])\n",
    "    for j in range(1,len(multi[i])):\n",
    "        print(imsidata[multi[i][j]]['frame'].iloc[[0]].values[0]['blueTeam']['totalGold'])\n",
    "        print(imsidata[multi[i][j]]['frame'].iloc[[-1]].values[0]['gameState'])"
   ]
  },
  {
   "cell_type": "code",
   "execution_count": 48,
   "metadata": {
    "collapsed": true
   },
   "outputs": [],
   "source": [
    "import pickle\n",
    " \n",
    "## Save pickle 임시저장\n",
    "\n",
    "with open(\"C:/Users/Gangmin/Desktop/gangmin/capstone/lolDeveloperApi/multigame.pickle\",\"wb\") as fw:\n",
    "    pickle.dump(imsidata, fw)\n"
   ]
  },
  {
   "cell_type": "code",
   "execution_count": 2,
   "metadata": {
    "collapsed": true
   },
   "outputs": [],
   "source": [
    "## Load pickle\n",
    "import pickle\n",
    "with open(\"C:/Users/Gangmin/Desktop/gangmin/capstone/lolDeveloperApi/multigame.pickle\",\"rb\") as fr:\n",
    "    imsidata = pickle.load(fr)"
   ]
  },
  {
   "cell_type": "code",
   "execution_count": null,
   "metadata": {
    "collapsed": true
   },
   "outputs": [],
   "source": [
    "'''\n",
    "0~18(19개)\n",
    "19 빼먹음\n",
    "20~40(21개)\n",
    "\n",
    "\n",
    "'''"
   ]
  },
  {
   "cell_type": "code",
   "execution_count": null,
   "metadata": {
    "collapsed": true
   },
   "outputs": [],
   "source": [
    "#2개 마저 수집하고 정확성 확인하기"
   ]
  },
  {
   "cell_type": "markdown",
   "metadata": {},
   "source": [
    "# gamelist train,test"
   ]
  },
  {
   "cell_type": "code",
   "execution_count": 247,
   "metadata": {
    "collapsed": true
   },
   "outputs": [],
   "source": [
    "gamelist = []"
   ]
  },
  {
   "cell_type": "code",
   "execution_count": 254,
   "metadata": {
    "scrolled": false
   },
   "outputs": [
    {
     "name": "stdout",
     "output_type": "stream",
     "text": [
      "{'startTime': '2019-10-02T11:00:00Z', 'blockName': '플레이-인 그룹 스테이지', 'league': {'name': '월드 챔피언십'}, 'match': {'id': '102844212420310203', 'type': 'normal', 'teams': [{'name': 'Clutch Gaming', 'code': 'CLU', 'image': 'https://lolstatic-a.akamaihd.net/esports-assets/production/team/clutch-gaming-83a00582.png', 'result': {'gameWins': 0}}, {'name': 'Unicorns of Love', 'code': 'UOL', 'image': 'https://lolstatic-a.akamaihd.net/esports-assets/production/team/unicorns-of-love-8qvakeja.png', 'result': {'gameWins': 1}}], 'strategy': {'type': 'bestOf', 'count': 1}}, 'games': [{'id': '102844212430075086', 'vods': [{'parameter': 'J5R7PrKMBv8'}, {'parameter': 'e3Zi11S2IqE'}, {'parameter': 'U24z9YbJV10'}, {'parameter': 'N7HSF1yukk8'}]}]}\n"
     ]
    }
   ],
   "source": [
    "for i in data['data']['schedule']['events']:\n",
    "    print(i)\n",
    "    break\n",
    "    for j in i['games']:\n",
    "        if len(j['vods']) is not 0:\n",
    "            temp = []\n",
    "            temp.append(i['startTime']) \n",
    "            temp.append(i['match']['teams'][0]['code'])\n",
    "            temp.append(i['match']['teams'][1]['code'])\n",
    "            temp.append(\"_\"+str(j['id']))\n",
    "            gamelist.append(temp)"
   ]
  },
  {
   "cell_type": "code",
   "execution_count": 249,
   "metadata": {
    "collapsed": true
   },
   "outputs": [],
   "source": [
    "#gamelist"
   ]
  },
  {
   "cell_type": "code",
   "execution_count": 250,
   "metadata": {
    "collapsed": true
   },
   "outputs": [],
   "source": [
    "gamelist = pd.DataFrame(gamelist)"
   ]
  },
  {
   "cell_type": "code",
   "execution_count": 251,
   "metadata": {
    "collapsed": true
   },
   "outputs": [],
   "source": [
    "gamelist.columns = ['Time','T1','T2','gameId']"
   ]
  },
  {
   "cell_type": "code",
   "execution_count": 252,
   "metadata": {
    "collapsed": true
   },
   "outputs": [],
   "source": [
    "import numpy as np\n",
    "from sklearn.model_selection import train_test_split\n",
    "\n",
    "\n",
    "X_train, X_test = train_test_split(gamelist, test_size=0.3, random_state=123)\n"
   ]
  },
  {
   "cell_type": "code",
   "execution_count": 253,
   "metadata": {
    "collapsed": true
   },
   "outputs": [],
   "source": [
    "X_train.to_csv(\"c:/users/gangmin/desktop/gangmin/capstone/lolDeveloperApi/trainlist.csv\")\n",
    "X_test.to_csv(\"c:/users/gangmin/desktop/gangmin/capstone/lolDeveloperApi/testlist.csv\")"
   ]
  },
  {
   "cell_type": "code",
   "execution_count": null,
   "metadata": {
    "collapsed": true
   },
   "outputs": [],
   "source": []
  }
 ],
 "metadata": {
  "kernelspec": {
   "display_name": "Python 3",
   "language": "python",
   "name": "python3"
  },
  "language_info": {
   "codemirror_mode": {
    "name": "ipython",
    "version": 3
   },
   "file_extension": ".py",
   "mimetype": "text/x-python",
   "name": "python",
   "nbconvert_exporter": "python",
   "pygments_lexer": "ipython3",
   "version": "3.6.3"
  }
 },
 "nbformat": 4,
 "nbformat_minor": 4
}
