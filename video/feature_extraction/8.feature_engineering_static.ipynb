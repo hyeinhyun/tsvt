{
 "cells": [
  {
   "cell_type": "code",
   "execution_count": 1,
   "metadata": {
    "collapsed": true
   },
   "outputs": [],
   "source": [
    "import pickle\n",
    "#변화율 데이터 저장\n",
    "with open('highlight_delta.pickle','rb') as f:\n",
    "    delta = pickle.load(f)"
   ]
  },
  {
   "cell_type": "code",
   "execution_count": 2,
   "metadata": {
    "collapsed": true
   },
   "outputs": [],
   "source": [
    "with open('highlight_statistic.pickle','rb') as f:\n",
    "    tdelta = pickle.load(f)"
   ]
  },
  {
   "cell_type": "code",
   "execution_count": 3,
   "metadata": {
    "collapsed": true
   },
   "outputs": [],
   "source": [
    "import pandas as pd"
   ]
  },
  {
   "cell_type": "code",
   "execution_count": 4,
   "metadata": {},
   "outputs": [
    {
     "data": {
      "image/png": "[encoded data removed]",
      "text/plain": [
       "<matplotlib.figure.Figure at 0x7fe2e6beb080>"
      ]
     },
     "metadata": {},
     "output_type": "display_data"
    }
   ],
   "source": [
    "from matplotlib import pyplot as plt\n",
    "for key in delta.keys():\n",
    "    plt.plot(delta[key])\n",
    "    plt.show()\n",
    "    break"
   ]
  },
  {
   "cell_type": "code",
   "execution_count": 5,
   "metadata": {
    "collapsed": true
   },
   "outputs": [],
   "source": [
    "for key in tdelta.keys():\n",
    "    #print(tdelta[key])\n",
    "    \n",
    "    for index in tdelta[key]:\n",
    "        before=[]\n",
    "        #before 10\n",
    "\n",
    "        for i in range(10):\n",
    "            before.append(delta[key][index])\n",
    "        \n",
    "        after=[]\n",
    "        #after 7\n",
    "        for i in range(7):\n",
    "            after.insert(0,delta[key][index])\n",
    "        total=before\n",
    "        total.append(delta[key][index])\n",
    "        total = total+after\n",
    "        ti =0\n",
    "        for i in range(max(0,-10+index),min(len(delta[key]),7+index)):\n",
    "            if delta[key][i] < total[ti]:\n",
    "                delta[key][i] = total[ti]\n",
    "            ti+=1\n",
    "        "
   ]
  },
  {
   "cell_type": "code",
   "execution_count": 6,
   "metadata": {},
   "outputs": [
    {
     "data": {
      "image/png": "[encoded data removed]",
      "text/plain": [
       "<matplotlib.figure.Figure at 0x7fe314673da0>"
      ]
     },
     "metadata": {},
     "output_type": "display_data"
    }
   ],
   "source": [
    "from matplotlib import pyplot as plt\n",
    "for key in delta.keys():\n",
    "    plt.plot(delta[key])\n",
    "    plt.show()\n",
    "    break"
   ]
  },
  {
   "cell_type": "code",
   "execution_count": 7,
   "metadata": {
    "collapsed": true
   },
   "outputs": [],
   "source": [
    "import pickle\n",
    "with open('temp_statistic.pickle',\"rb\") as f:\n",
    "    baron_statistic,baron_stack,dragon_statistic,dragon_stack = pickle.load(f)"
   ]
  },
  {
   "cell_type": "code",
   "execution_count": 8,
   "metadata": {
    "collapsed": true
   },
   "outputs": [],
   "source": [
    "for key in baron_statistic.keys():\n",
    "    #16,7\n",
    "    for index in baron_statistic[key]:\n",
    "        before=[]\n",
    "        #before 10\n",
    "        #v = max(delta[key])/17\n",
    "        v=max(delta[key])\n",
    "        for i in range(16):\n",
    "            before.append(v)\n",
    "        \n",
    "        after=[]\n",
    "        #after 7\n",
    "        v = max(delta[key])\n",
    "        for i in range(7):\n",
    "            after.insert(0,v)\n",
    "        total=before\n",
    "        #total.append(max(delta[key]))\n",
    "        total.append(v)\n",
    "        total = total+after\n",
    "        ti =0\n",
    "        for i in range(max(0,-16+index),min(len(delta[key]),7+index)):\n",
    "            if delta[key][i] < total[ti]:\n",
    "                delta[key][i] = total[ti]\n",
    "            ti+=1\n",
    "        "
   ]
  },
  {
   "cell_type": "code",
   "execution_count": 9,
   "metadata": {
    "collapsed": true
   },
   "outputs": [],
   "source": [
    "for key in baron_statistic.keys():\n",
    "    #6, 3\n",
    "    for index in dragon_statistic[key]:\n",
    "        before=[]\n",
    "        #before 10\n",
    "        #v = max(delta[key])/6\n",
    "        v = max(delta[key])\n",
    "        for i in range(5):\n",
    "            before.append(v)\n",
    "        \n",
    "        after=[]\n",
    "        #after 7\n",
    "        #v = max(delta[key])/3\n",
    "        v = max(delta[key])\n",
    "        for i in range(2):\n",
    "            after.insert(0,v)\n",
    "        total=before\n",
    "        #total.append(max(delta[key]))\n",
    "        total.append(v)\n",
    "        total = total+after\n",
    "        ti =0\n",
    "        for i in range(max(0,-5+index),min(len(delta[key]),2+index)):\n",
    "            if delta[key][i] < total[ti]:\n",
    "                delta[key][i] = total[ti]\n",
    "            ti+=1\n",
    "        "
   ]
  },
  {
   "cell_type": "code",
   "execution_count": 10,
   "metadata": {},
   "outputs": [
    {
     "data": {
      "image/png": "[encoded data removed]",
      "text/plain": [
       "<matplotlib.figure.Figure at 0x7fe2e4a13a58>"
      ]
     },
     "metadata": {},
     "output_type": "display_data"
    }
   ],
   "source": [
    "from matplotlib import pyplot as plt\n",
    "for key in delta.keys():\n",
    "    plt.plot(delta[key])\n",
    "    plt.show()\n",
    "    break"
   ]
  },
  {
   "cell_type": "code",
   "execution_count": 11,
   "metadata": {
    "collapsed": true
   },
   "outputs": [],
   "source": [
    "for key in baron_statistic.keys():\n",
    "    #6, 3\n",
    "    before=[]\n",
    "    #before 10\n",
    "    #v = max(delta[key])/47\n",
    "    v = max(delta[key])\n",
    "    for i in range(46):\n",
    "        before.append(v)\n",
    "\n",
    "    total=before\n",
    "    #total.append(max(delta[key]))\n",
    "    total.append(v)\n",
    "    ti =0\n",
    "    for i in range(len(delta[key])-46,len(delta[key])):\n",
    "        if delta[key][i] < total[ti]:\n",
    "            delta[key][i] = total[ti]\n",
    "        ti+=1\n"
   ]
  },
  {
   "cell_type": "code",
   "execution_count": 13,
   "metadata": {
    "scrolled": false
   },
   "outputs": [
    {
     "data": {
      "image/png": "[encoded data removed]",
      "text/plain": [
       "<matplotlib.figure.Figure at 0x7fe2e26c9080>"
      ]
     },
     "metadata": {},
     "output_type": "display_data"
    }
   ],
   "source": [
    "from matplotlib import pyplot as plt\n",
    "for key in delta.keys():\n",
    "    key = '102844235753356742'\n",
    "    plt.plot(delta[key])\n",
    "    plt.show()\n",
    "    break"
   ]
  },
  {
   "cell_type": "code",
   "execution_count": 35,
   "metadata": {
    "collapsed": true
   },
   "outputs": [],
   "source": [
    "\n",
    "with open('/home/ubuntu/gangmin/tsvt/multimodal/data/video_statistic_features_static.pickle','wb') as f:\n",
    "    pickle.dump(delta,f)"
   ]
  },
  {
   "cell_type": "code",
   "execution_count": null,
   "metadata": {
    "collapsed": true
   },
   "outputs": [],
   "source": []
  }
 ],
 "metadata": {
  "kernelspec": {
   "display_name": "Python 3",
   "language": "python",
   "name": "python3"
  },
  "language_info": {
   "codemirror_mode": {
    "name": "ipython",
    "version": 3
   },
   "file_extension": ".py",
   "mimetype": "text/x-python",
   "name": "python",
   "nbconvert_exporter": "python",
   "pygments_lexer": "ipython3",
   "version": "3.6.3"
  }
 },
 "nbformat": 4,
 "nbformat_minor": 2
}
