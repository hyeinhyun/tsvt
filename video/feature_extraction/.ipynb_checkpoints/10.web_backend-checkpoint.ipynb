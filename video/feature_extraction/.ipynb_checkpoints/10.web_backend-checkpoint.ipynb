{
 "cells": [
  {
   "cell_type": "code",
   "execution_count": 2,
   "metadata": {
    "collapsed": true
   },
   "outputs": [],
   "source": [
    "key = '0TvQnueqKa5mxJntVWt0w4LpLfEkrV1Ta8rQBb9Z'"
   ]
  },
  {
   "cell_type": "code",
   "execution_count": 11,
   "metadata": {},
   "outputs": [
    {
     "name": "stdout",
     "output_type": "stream",
     "text": [
      "{'data': {'leagues': [{'id': '100695891328981122', 'slug': 'european-masters', 'name': 'European Masters', 'region': '유럽', 'image': 'http://static.lolesports.com/leagues/1585044513499_EM_BUG_2020%20(1).png', 'priority': 215}, {'id': '101097443346691685', 'slug': 'turkey-academy-league', 'name': 'TAL', 'region': '터키', 'image': 'http://static.lolesports.com/leagues/1592516072459_TAL-01-FullonDark.png', 'priority': 1000}, {'id': '101382741235120470', 'slug': 'lla', 'name': 'Liga Latinoamérica', 'region': '라틴 아메리카', 'image': 'http://static.lolesports.com/leagues/1592516315279_LLA-01-FullonDark.png', 'priority': 209}, {'id': '104366947889790212', 'slug': 'pcs', 'name': 'PCS', 'region': '홍콩, 마카오, 대만', 'image': 'http://static.lolesports.com/leagues/1592515942679_PCS-01-FullonDark.png', 'priority': 1000}, {'id': '98767975604431411', 'slug': 'worlds', 'name': '월드 챔피언십', 'region': '국제 대회', 'image': 'http://static.lolesports.com/leagues/1592594612171_WorldsDarkBG.png', 'priority': 0}, {'id': '98767991295297326', 'slug': 'all-star', 'name': '올스타전', 'region': '국제 대회', 'image': 'http://static.lolesports.com/leagues/1592594737227_ASEDarkBG.png', 'priority': 213}, {'id': '98767991299243165', 'slug': 'lcs', 'name': 'LCS', 'region': '북미', 'image': 'http://static.lolesports.com/leagues/1592516141735_LCS-01-FullonDark.png', 'priority': 203}, {'id': '98767991302996019', 'slug': 'lec', 'name': 'LEC', 'region': '유럽', 'image': 'http://static.lolesports.com/leagues/1592516184297_LEC-01-FullonDark.png', 'priority': 202}, {'id': '98767991310872058', 'slug': 'lck', 'name': 'LCK', 'region': '한국', 'image': 'http://static.lolesports.com/leagues/1592516205122_LCK-01-FullonDark.png', 'priority': 1}, {'id': '98767991314006698', 'slug': 'lpl', 'name': 'LPL', 'region': '중국', 'image': 'http://static.lolesports.com/leagues/1592516115322_LPL-01-FullonDark.png', 'priority': 201}, {'id': '98767991325878492', 'slug': 'msi', 'name': 'MSI', 'region': '국제 대회', 'image': 'http://static.lolesports.com/leagues/1592594634248_MSIDarkBG.png', 'priority': 212}, {'id': '98767991331560952', 'slug': 'oce-opl', 'name': 'OPL', 'region': '오세아니아', 'image': 'https://lolstatic-a.akamaihd.net/esports-assets/production/league/oce-opl-e0qfb3l8.png', 'priority': 210}, {'id': '98767991332355509', 'slug': 'cblol-brazil', 'name': 'CBLOL', 'region': '브라질', 'image': 'http://static.lolesports.com/leagues/1592516282648_CBLOL-01-FullonDark.png', 'priority': 208}, {'id': '98767991343597634', 'slug': 'turkiye-sampiyonluk-ligi', 'name': 'TCL', 'region': '터키', 'image': 'https://lolstatic-a.akamaihd.net/esports-assets/production/league/turkiye-sampiyonluk-ligi-8r9ofb9.png', 'priority': 207}, {'id': '98767991349978712', 'slug': 'ljl-japan', 'name': 'LJL', 'region': '일본', 'image': 'http://static.lolesports.com/leagues/1592516354053_LJL-01-FullonDark.png', 'priority': 206}, {'id': '99332500638116286', 'slug': 'lcs-academy', 'name': '북미 아카데미', 'region': '북미', 'image': 'https://lolstatic-a.akamaihd.net/esports-assets/production/league/lcs-academy-4o8goq8n.png', 'priority': 205}]}}\n"
     ]
    },
    {
     "data": {
      "text/plain": [
       "[[['European Masters'],\n",
       "  '100695891328981122',\n",
       "  'http://static.lolesports.com/leagues/1585044513499_EM_BUG_2020%20(1).png'],\n",
       " [['TAL'],\n",
       "  '101097443346691685',\n",
       "  'http://static.lolesports.com/leagues/1592516072459_TAL-01-FullonDark.png'],\n",
       " [['Liga Latinoamérica'],\n",
       "  '101382741235120470',\n",
       "  'http://static.lolesports.com/leagues/1592516315279_LLA-01-FullonDark.png'],\n",
       " [['PCS'],\n",
       "  '104366947889790212',\n",
       "  'http://static.lolesports.com/leagues/1592515942679_PCS-01-FullonDark.png'],\n",
       " [['월드 챔피언십'],\n",
       "  '98767975604431411',\n",
       "  'http://static.lolesports.com/leagues/1592594612171_WorldsDarkBG.png'],\n",
       " [['올스타전'],\n",
       "  '98767991295297326',\n",
       "  'http://static.lolesports.com/leagues/1592594737227_ASEDarkBG.png'],\n",
       " [['LCS'],\n",
       "  '98767991299243165',\n",
       "  'http://static.lolesports.com/leagues/1592516141735_LCS-01-FullonDark.png'],\n",
       " [['LEC'],\n",
       "  '98767991302996019',\n",
       "  'http://static.lolesports.com/leagues/1592516184297_LEC-01-FullonDark.png'],\n",
       " [['LCK'],\n",
       "  '98767991310872058',\n",
       "  'http://static.lolesports.com/leagues/1592516205122_LCK-01-FullonDark.png'],\n",
       " [['LPL'],\n",
       "  '98767991314006698',\n",
       "  'http://static.lolesports.com/leagues/1592516115322_LPL-01-FullonDark.png'],\n",
       " [['MSI'],\n",
       "  '98767991325878492',\n",
       "  'http://static.lolesports.com/leagues/1592594634248_MSIDarkBG.png'],\n",
       " [['OPL'],\n",
       "  '98767991331560952',\n",
       "  'https://lolstatic-a.akamaihd.net/esports-assets/production/league/oce-opl-e0qfb3l8.png'],\n",
       " [['CBLOL'],\n",
       "  '98767991332355509',\n",
       "  'http://static.lolesports.com/leagues/1592516282648_CBLOL-01-FullonDark.png'],\n",
       " [['TCL'],\n",
       "  '98767991343597634',\n",
       "  'https://lolstatic-a.akamaihd.net/esports-assets/production/league/turkiye-sampiyonluk-ligi-8r9ofb9.png'],\n",
       " [['LJL'],\n",
       "  '98767991349978712',\n",
       "  'http://static.lolesports.com/leagues/1592516354053_LJL-01-FullonDark.png'],\n",
       " [['북미 아카데미'],\n",
       "  '99332500638116286',\n",
       "  'https://lolstatic-a.akamaihd.net/esports-assets/production/league/lcs-academy-4o8goq8n.png']]"
      ]
     },
     "execution_count": 11,
     "metadata": {},
     "output_type": "execute_result"
    }
   ],
   "source": [
    "import requests\n",
    "header = {'x-api-key':key}\n",
    "\n",
    "leagues = 'https://esports-api.lolesports.com/persisted/gw/getLeagues?hl=ko-KR'\n",
    "r = requests.get(leagues,headers = header)\n",
    "data = r.json()\n",
    "print(data)\n",
    "dlist=[]\n",
    "for i in data['data']['leagues']:\n",
    "    dlist.append([[i['name']],i['id'],i['image']])\n",
    "dlist"
   ]
  },
  {
   "cell_type": "code",
   "execution_count": 14,
   "metadata": {},
   "outputs": [
    {
     "ename": "NameError",
     "evalue": "name 'request' is not defined",
     "output_type": "error",
     "traceback": [
      "\u001b[0;31m---------------------------------------------------------------------------\u001b[0m",
      "\u001b[0;31mNameError\u001b[0m                                 Traceback (most recent call last)",
      "\u001b[0;32m<ipython-input-14-a9a37dbb7b93>\u001b[0m in \u001b[0;36m<module>\u001b[0;34m()\u001b[0m\n\u001b[1;32m      6\u001b[0m \u001b[0mleagues\u001b[0m \u001b[0;34m=\u001b[0m \u001b[0;34m'https://esports-api.lolesports.com/persisted/gw/getTournamentsForLeague?hl=ko-KR'\u001b[0m\u001b[0;34m\u001b[0m\u001b[0m\n\u001b[1;32m      7\u001b[0m \u001b[0mr\u001b[0m \u001b[0;34m=\u001b[0m \u001b[0mrequests\u001b[0m\u001b[0;34m.\u001b[0m\u001b[0mget\u001b[0m\u001b[0;34m(\u001b[0m\u001b[0mleagues\u001b[0m\u001b[0;34m,\u001b[0m\u001b[0mheaders\u001b[0m \u001b[0;34m=\u001b[0m \u001b[0mheader\u001b[0m\u001b[0;34m,\u001b[0m\u001b[0mparams\u001b[0m \u001b[0;34m=\u001b[0m \u001b[0mparam\u001b[0m\u001b[0;34m)\u001b[0m\u001b[0;34m\u001b[0m\u001b[0m\n\u001b[0;32m----> 8\u001b[0;31m \u001b[0mrequest\u001b[0m\u001b[0;34m\u001b[0m\u001b[0m\n\u001b[0m\u001b[1;32m      9\u001b[0m \u001b[0mdata\u001b[0m \u001b[0;34m=\u001b[0m \u001b[0mr\u001b[0m\u001b[0;34m.\u001b[0m\u001b[0mjson\u001b[0m\u001b[0;34m(\u001b[0m\u001b[0;34m)\u001b[0m\u001b[0;34m\u001b[0m\u001b[0m\n\u001b[1;32m     10\u001b[0m \u001b[0mdata\u001b[0m\u001b[0;34m\u001b[0m\u001b[0m\n",
      "\u001b[0;31mNameError\u001b[0m: name 'request' is not defined"
     ]
    }
   ],
   "source": [
    "# 리그 선택\n",
    "match_list_18 = []\n",
    "header = {'x-api-key':key}\n",
    "param = {'leagueId':98767975604431411}\n",
    "\n",
    "leagues = 'https://esports-api.lolesports.com/persisted/gw/getTournamentsForLeague?hl=ko-KR'\n",
    "r = requests.get(leagues,headers = header,params = param)\n",
    "data = r.json()\n",
    "data"
   ]
  },
  {
   "cell_type": "code",
   "execution_count": 48,
   "metadata": {
    "collapsed": true
   },
   "outputs": [],
   "source": [
    "# 토너먼트 선택\n",
    "\n",
    "#get events(all match in tournament)\n",
    "header = {'x-api-key':key}\n",
    "param = {'tournamentId':104841804583318464}\n",
    "\n",
    "leagues = 'https://esports-api.lolesports.com/persisted/gw/getCompletedEvents?hl=ko-KR'\n",
    "r = requests.get(leagues,headers = header,params = param)\n",
    "data = r.json()"
   ]
  },
  {
   "cell_type": "code",
   "execution_count": 49,
   "metadata": {
    "collapsed": true
   },
   "outputs": [],
   "source": [
    "#world championship games list\n",
    "name_list=[]\n",
    "game_list = []"
   ]
  },
  {
   "cell_type": "code",
   "execution_count": 50,
   "metadata": {
    "collapsed": true
   },
   "outputs": [],
   "source": [
    "for i in data['data']['schedule']['events']:\n",
    "    temp = []\n",
    "    for j in i['match']['teams']:\n",
    "        temp.append(j['code'])\n",
    "    temp.append(i['startTime'])\n",
    "    for j in i['games']:\n",
    "        if len(j['vods']) is not 0:\n",
    "            temp.append(j['id'])\n",
    "    game_list.append(temp)"
   ]
  },
  {
   "cell_type": "code",
   "execution_count": 51,
   "metadata": {
    "collapsed": true
   },
   "outputs": [],
   "source": [
    "import pandas as pd\n",
    "import numpy as np\n",
    "import time"
   ]
  },
  {
   "cell_type": "code",
   "execution_count": 52,
   "metadata": {
    "collapsed": true
   },
   "outputs": [],
   "source": [
    "single = game_list[3]"
   ]
  },
  {
   "cell_type": "code",
   "execution_count": 53,
   "metadata": {
    "collapsed": true
   },
   "outputs": [],
   "source": [
    "single[2] = single[2][:-1]+'.00Z'"
   ]
  },
  {
   "cell_type": "code",
   "execution_count": 54,
   "metadata": {},
   "outputs": [
    {
     "name": "stdout",
     "output_type": "stream",
     "text": [
      "finish\n"
     ]
    }
   ],
   "source": [
    "gamedata = {}\n",
    "#get window\n",
    "import datetime\n",
    "header = {'x-api-key':key}\n",
    "\n",
    "timeframe = pd.DataFrame(np.zeros((0,2)))\n",
    "timeframe.columns = ['Time','frame']\n",
    "\n",
    "first = 0\n",
    "index = 0\n",
    "seconds = 0\n",
    "last = 0\n",
    "dead = 0\n",
    "while dead == 0 :\n",
    "\n",
    "    try:\n",
    "        if first == 0:\n",
    "            startT = single[2]\n",
    "            timeT = datetime.datetime.strptime(startT, \"%Y-%m-%dT%H:%M:%S.%fZ\")\n",
    "            timeT = timeT - datetime.timedelta(hours=1)\n",
    "            first +=1\n",
    "        else:\n",
    "            if seconds == 0 :\n",
    "                timeT = timeT + datetime.timedelta(minutes=1)\n",
    "            else:\n",
    "                timeT = timeT + datetime.timedelta(seconds=10)\n",
    "        param = {'id':single[3],'startingTime':str(timeT.strftime(\"%Y-%m-%dT%H:%M:%S.%fZ\"))}\n",
    "\n",
    "        leagues = 'https://feed.lolesports.com/livestats/v1/window/'+str(param['id'])\n",
    "        r = requests.get(leagues,headers = header,params = param)\n",
    "        data = r.json()\n",
    "        for i in range(len(data['frames'])):\n",
    "            if len(data['frames'][i]['rfc460Timestamp']) == 20:\n",
    "                data['frames'][i]['rfc460Timestamp'] = data['frames'][i]['rfc460Timestamp'][:-1]+'.00Z'\n",
    "\n",
    "            tempTime = datetime.datetime.strptime(data['frames'][i]['rfc460Timestamp'], \"%Y-%m-%dT%H:%M:%S.%fZ\")\n",
    "\n",
    "            check = str(tempTime.hour)+'-'+str(tempTime.minute)+'-'+str(tempTime.second)\n",
    "\n",
    "            if data['frames'][i]['gameState']=='finished':\n",
    "                dead = 1\n",
    "                if check in list(timeframe['Time']):\n",
    "                    timeframe.loc[index-1] = check,data['frames'][i]\n",
    "                    continue\n",
    "\n",
    "            if  check not in list(timeframe['Time']):\n",
    "                timeframe.loc[index] = check,data['frames'][i]\n",
    "                index += 1\n",
    "\n",
    "        if seconds == 0:\n",
    "            timeT = timeT - datetime.timedelta(minutes=1)\n",
    "            timeframe = pd.DataFrame(np.zeros((0,2)))\n",
    "            timeframe.columns = ['Time','frame']\n",
    "            seconds =1\n",
    "\n",
    "    except Exception as e:\n",
    "        pass\n",
    "gamedata[single[3]] = timeframe\n",
    "print('finish')"
   ]
  },
  {
   "cell_type": "code",
   "execution_count": 55,
   "metadata": {
    "collapsed": true
   },
   "outputs": [],
   "source": [
    "for k,v in gamedata.items():\n",
    "    for i in v['frame']:\n",
    "        if i['blueTeam']['totalGold'] == 0:\n",
    "            gamedata[k] = gamedata[k].drop([gamedata[k].index[0]])"
   ]
  },
  {
   "cell_type": "code",
   "execution_count": 56,
   "metadata": {
    "collapsed": true
   },
   "outputs": [],
   "source": [
    "for game_id in gamedata.keys():\n",
    "    gamedata[game_id]['Timestamp'] = list(map(lambda x:x['rfc460Timestamp'],gamedata[game_id]['frame'].values))\n",
    "    \n",
    "    gamedata[game_id]['blue_gold'] = list(map(lambda x:x['blueTeam']['totalGold'],gamedata[game_id]['frame'].values))\n",
    "    gamedata[game_id]['blue_towers'] = list(map(lambda x:x['blueTeam']['towers'],gamedata[game_id]['frame'].values))\n",
    "    gamedata[game_id]['blue_barons'] = list(map(lambda x:x['blueTeam']['barons'],gamedata[game_id]['frame'].values))\n",
    "    gamedata[game_id]['blue_totalKills'] = list(map(lambda x:x['blueTeam']['totalKills'],gamedata[game_id]['frame'].values))\n",
    "    gamedata[game_id]['blue_dragons'] = list(map(lambda x:len(x['blueTeam']['dragons']),gamedata[game_id]['frame'].values))\n",
    "\n",
    "    gamedata[game_id]['red_gold'] = list(map(lambda x:x['redTeam']['totalGold'],gamedata[game_id]['frame'].values))\n",
    "    gamedata[game_id]['red_towers'] = list(map(lambda x:x['redTeam']['towers'],gamedata[game_id]['frame'].values))\n",
    "    gamedata[game_id]['red_barons'] = list(map(lambda x:x['redTeam']['barons'],gamedata[game_id]['frame'].values))\n",
    "    gamedata[game_id]['red_totalKills'] = list(map(lambda x:x['redTeam']['totalKills'],gamedata[game_id]['frame'].values))\n",
    "    gamedata[game_id]['red_dragons'] = list(map(lambda x:len(x['redTeam']['dragons']),gamedata[game_id]['frame'].values))\n",
    "    \n",
    "    gamedata[game_id].drop(['frame'],axis='columns',inplace=True)\n",
    "    gamedata[game_id] = gamedata[game_id].reset_index(drop=True)"
   ]
  },
  {
   "cell_type": "code",
   "execution_count": 14,
   "metadata": {
    "collapsed": true
   },
   "outputs": [],
   "source": [
    "for game in gamedata.keys():\n",
    "    gamedata[game]['Time'] = list(map(lambda x:int(x.split('-')[0])*3600+int(x.split('-')[1])*60+int(x.split('-')[2]),gamedata[game]['Time']))"
   ]
  },
  {
   "cell_type": "code",
   "execution_count": 15,
   "metadata": {
    "collapsed": true
   },
   "outputs": [],
   "source": [
    "for game in gamedata.keys():\n",
    "    init = gamedata[game]['Time'][0]\n",
    "    gamedata[game]['Time'] = list(map(lambda x:x-init,gamedata[game]['Time']))"
   ]
  },
  {
   "cell_type": "code",
   "execution_count": 16,
   "metadata": {},
   "outputs": [
    {
     "name": "stderr",
     "output_type": "stream",
     "text": [
      "/home/ubuntu/yes/lib/python3.6/site-packages/ipykernel_launcher.py:12: SettingWithCopyWarning: \n",
      "A value is trying to be set on a copy of a slice from a DataFrame.\n",
      "Try using .loc[row_indexer,col_indexer] = value instead\n",
      "\n",
      "See the caveats in the documentation: https://pandas.pydata.org/pandas-docs/stable/user_guide/indexing.html#returning-a-view-versus-a-copy\n",
      "  if sys.path[0] == '':\n"
     ]
    }
   ],
   "source": [
    "for game in gamedata.keys():\n",
    "    temp_data= pd.DataFrame(columns = gamedata[game].columns)\n",
    "    time = 0\n",
    "    index = 0\n",
    "    last = gamedata[game]['Time'].values[-1]\n",
    "    while(time<last):\n",
    "        temp = gamedata[game].iloc[[index]]\n",
    "        if temp['Time'].values[0] == time:\n",
    "            temp_data = pd.concat([temp_data,temp],ignore_index = True)\n",
    "            index+=1\n",
    "        else :\n",
    "            temp['Time'] = time\n",
    "            temp_data = pd.concat([temp_data,temp],ignore_index = True)\n",
    "        time+=1\n",
    "    gamedata[game] = temp_data"
   ]
  },
  {
   "cell_type": "code",
   "execution_count": 17,
   "metadata": {
    "collapsed": true
   },
   "outputs": [],
   "source": [
    "# 논문 통계 적용\n",
    "baron_statistic={}\n",
    "dragon_statistic={}\n",
    "\n",
    "highlight_add = {}\n",
    "\n",
    "for game in gamedata.keys():\n",
    "    baron_s=[]\n",
    "    dragon_s=[]\n",
    "    end_s=[]\n",
    "    \n",
    "    baron = []\n",
    "    dragon = []\n",
    "    end = []\n",
    "    bb=0\n",
    "    rb=0\n",
    "    bd=0\n",
    "    rd=0\n",
    "    for i in range(len(gamedata[game])):\n",
    "        #default -17,8  -7,5\n",
    "        if gamedata[game].loc[i]['blue_barons']!=bb:\n",
    "            baron_s.append(i)\n",
    "            for j in range(i-20,min(i+9,len(gamedata[game]))):\n",
    "                baron.append(j)\n",
    "            bb = gamedata[game].loc[i]['blue_barons']\n",
    "        if gamedata[game].loc[i]['red_barons']!=rb:\n",
    "            baron_s.append(i)\n",
    "            for j in range(i-20,min(i+9,len(gamedata[game]))):\n",
    "                baron.append(j)\n",
    "            rb = gamedata[game].loc[i]['red_barons']\n",
    "        if gamedata[game].loc[i]['blue_dragons']!=bd:\n",
    "            dragon_s.append(i)\n",
    "            for j in range(i-8,min(i+4,len(gamedata[game]))):\n",
    "                dragon.append(j)\n",
    "            bd = gamedata[game].loc[i]['blue_dragons']\n",
    "        if gamedata[game].loc[i]['red_dragons']!=rd:\n",
    "            dragon_s.append(i)\n",
    "            for j in range(i-8,min(i+4,len(gamedata[game]))):\n",
    "                dragon.append(j)\n",
    "            rd = gamedata[game].loc[i]['red_dragons']\n",
    "    #for j in range(len(data[game])-48,len(data[game])):\n",
    "    #        end.append(j)\n",
    "    \n",
    "    highlight_add[game] = baron+dragon\n",
    "            \n",
    "    baron_statistic[game] = baron_s\n",
    "    dragon_statistic[game] = dragon_s"
   ]
  },
  {
   "cell_type": "code",
   "execution_count": 18,
   "metadata": {
    "collapsed": true
   },
   "outputs": [],
   "source": [
    "for game in gamedata.keys():\n",
    "    gamedata[game] = gamedata[game][['blue_gold','red_gold','blue_towers','red_towers','blue_totalKills','red_totalKills']]"
   ]
  },
  {
   "cell_type": "code",
   "execution_count": 19,
   "metadata": {
    "collapsed": true
   },
   "outputs": [],
   "source": [
    "#normalization\n",
    "for game in gamedata.keys():\n",
    "    final = pd.DataFrame(columns = ['gold','tower','kill'])\n",
    "    for i in range(len(gamedata[game])):\n",
    "        temp =[]\n",
    "        temp.append((gamedata[game]['blue_gold'][i]+1) / (gamedata[game]['blue_gold'][i]+gamedata[game]['red_gold'][i]+2))\n",
    "        temp.append((gamedata[game]['blue_towers'][i]+1) / (gamedata[game]['blue_towers'][i]+gamedata[game]['red_towers'][i]+2))\n",
    "        temp.append((gamedata[game]['blue_totalKills'][i]+1) / (gamedata[game]['blue_totalKills'][i]+gamedata[game]['red_totalKills'][i]+2))\n",
    "        final.loc[i] = temp\n",
    "        \n",
    "    gamedata[game] = final\n"
   ]
  },
  {
   "cell_type": "code",
   "execution_count": 20,
   "metadata": {
    "collapsed": true
   },
   "outputs": [],
   "source": [
    "# 0. 사용할 패키지 불러오기\n",
    "from keras.utils import np_utils\n",
    "from keras.models import Sequential\n",
    "from keras.layers import Dense, Activation\n",
    "import numpy as np\n",
    "from numpy import argmax\n",
    " \n",
    "\n",
    "# load model\n",
    "from keras.models import load_model\n",
    "model = load_model('/home/ubuntu/gangmin/tsvt/video/win_loss_classifier/models/344-0.0404.hdf5')\n"
   ]
  },
  {
   "cell_type": "code",
   "execution_count": 21,
   "metadata": {
    "collapsed": true
   },
   "outputs": [],
   "source": [
    "predict = {}\n",
    "result = {}"
   ]
  },
  {
   "cell_type": "code",
   "execution_count": 22,
   "metadata": {
    "collapsed": true
   },
   "outputs": [],
   "source": [
    "for game in gamedata.keys():\n",
    "    predict[game] = model.predict(gamedata[game])"
   ]
  },
  {
   "cell_type": "code",
   "execution_count": 23,
   "metadata": {
    "collapsed": true
   },
   "outputs": [],
   "source": [
    "highlight_re = {}\n",
    "highlight_delta = {}\n",
    "for game in gamedata.keys():\n",
    "    predict_blue = pd.DataFrame(predict[game])\n",
    "    predict_red = predict_blue[1]\n",
    "    predict_blue = predict_blue[0]\n",
    "    \n",
    "    predict_temp = list(predict_blue)\n",
    "    predict_temp.insert(0,0)\n",
    "    predict_temp.pop(-1)\n",
    "    \n",
    "    predict_blue = abs(np.array(predict_blue)-np.array(predict_temp))\n",
    "    predict_blue[0] = predict_blue[1]\n",
    "    \n",
    "    predict_temp = list(predict_red)\n",
    "    predict_temp.insert(0,0)\n",
    "    predict_temp.pop(-1)\n",
    "    \n",
    "    predict_red = abs(np.array(predict_red)-np.array(predict_temp))\n",
    "    predict_red[0] = predict_red[1]\n",
    "    \n",
    "    predict_delta = predict_blue+predict_red\n",
    "    \n",
    "    highlight_delta[game] = predict_delta\n",
    "    \n",
    "    highlight = []\n",
    "    for i,v in enumerate(predict_delta):\n",
    "        if v>0.0085:\n",
    "            highlight.append(i)\n",
    "            \n",
    "    highlight_re[game] = highlight"
   ]
  },
  {
   "cell_type": "code",
   "execution_count": 24,
   "metadata": {},
   "outputs": [
    {
     "data": {
      "text/plain": [
       "{'104841804589413352': [732,\n",
       "  1066,\n",
       "  1125,\n",
       "  1211,\n",
       "  1280,\n",
       "  1370,\n",
       "  1376,\n",
       "  1453,\n",
       "  1454,\n",
       "  1572,\n",
       "  1613,\n",
       "  1614,\n",
       "  1617,\n",
       "  1656,\n",
       "  1789,\n",
       "  1792,\n",
       "  1796,\n",
       "  1797,\n",
       "  1814,\n",
       "  1826,\n",
       "  1933,\n",
       "  1963,\n",
       "  1976,\n",
       "  1977]}"
      ]
     },
     "execution_count": 24,
     "metadata": {},
     "output_type": "execute_result"
    }
   ],
   "source": [
    "highlight_delta\n",
    "highlight_re"
   ]
  },
  {
   "cell_type": "markdown",
   "metadata": {},
   "source": [
    "# make one_two"
   ]
  },
  {
   "cell_type": "code",
   "execution_count": 31,
   "metadata": {
    "collapsed": true
   },
   "outputs": [],
   "source": [
    "for key in highlight_delta.keys():\n",
    "    highlight_delta[key] = list(map(lambda x : 1 if x>0.0085 else x, highlight_delta[key]))"
   ]
  },
  {
   "cell_type": "code",
   "execution_count": 33,
   "metadata": {
    "collapsed": true
   },
   "outputs": [],
   "source": [
    "for key in highlight_re.keys():\n",
    "    #print(tdelta[key])\n",
    "    \n",
    "    for index in highlight_re[key]:\n",
    "        before=[]\n",
    "        #before 10\n",
    "        v = 1/21\n",
    "        temp=v\n",
    "        for i in range(20):\n",
    "            before.append(temp)\n",
    "            temp+=v\n",
    "        \n",
    "        after=[]\n",
    "        #after 7\n",
    "        v = 1/15\n",
    "        temp=v\n",
    "        for i in range(14):\n",
    "            after.insert(0,temp)\n",
    "            temp+=v\n",
    "        total=before\n",
    "        total.append(1)\n",
    "        total = total+after\n",
    "        ti =0\n",
    "        for i in range(max(0,-20+index),min(len(highlight_delta[key]),14+index)):\n",
    "            if highlight_delta[key][i] < total[ti]:\n",
    "                highlight_delta[key][i] = total[ti]\n",
    "            ti+=1\n",
    "        "
   ]
  },
  {
   "cell_type": "code",
   "execution_count": 36,
   "metadata": {
    "collapsed": true
   },
   "outputs": [],
   "source": [
    "for key in baron_statistic.keys():\n",
    "    #16,7\n",
    "    for index in baron_statistic[key]:\n",
    "        before=[]\n",
    "        #before 10\n",
    "        #v = max(delta[key])/17\n",
    "        v = 1/33\n",
    "        temp=v\n",
    "        for i in range(32):\n",
    "            before.append(temp)\n",
    "            temp+=v\n",
    "        \n",
    "        after=[]\n",
    "        #after 7\n",
    "        #v = max(delta[key])/8\n",
    "        v = 1/15\n",
    "        temp=v\n",
    "        for i in range(14):\n",
    "            after.insert(0,temp)\n",
    "            temp+=v\n",
    "        total=before\n",
    "        #total.append(max(delta[key]))\n",
    "        total.append(1)\n",
    "        total = total+after\n",
    "        ti =0\n",
    "        for i in range(max(0,-32+index),min(len(highlight_delta[key]),14+index)):\n",
    "            if highlight_delta[key][i] < total[ti]:\n",
    "                highlight_delta[key][i] = total[ti]\n",
    "            ti+=1\n",
    "        "
   ]
  },
  {
   "cell_type": "code",
   "execution_count": 37,
   "metadata": {
    "collapsed": true
   },
   "outputs": [],
   "source": [
    "for key in dragon_statistic.keys():\n",
    "    #6, 3\n",
    "    for index in dragon_statistic[key]:\n",
    "        before=[]\n",
    "        #before 10\n",
    "        #v = max(delta[key])/6\n",
    "        v = 1/11\n",
    "        temp=v\n",
    "        for i in range(10):\n",
    "            before.append(temp)\n",
    "            temp+=v\n",
    "        \n",
    "        after=[]\n",
    "        #after 7\n",
    "        #v = max(delta[key])/3\n",
    "        v = 1/5\n",
    "        temp=v\n",
    "        for i in range(4):\n",
    "            after.insert(0,temp)\n",
    "            temp+=v\n",
    "        total=before\n",
    "        #total.append(max(delta[key]))\n",
    "        total.append(1)\n",
    "        total = total+after\n",
    "        ti =0\n",
    "        for i in range(max(0,-10+index),min(len(highlight_delta[key]),4+index)):\n",
    "            if highlight_delta[key][i] < total[ti]:\n",
    "                highlight_delta[key][i] = total[ti]\n",
    "            ti+=1\n",
    "        "
   ]
  },
  {
   "cell_type": "code",
   "execution_count": 40,
   "metadata": {
    "collapsed": true
   },
   "outputs": [],
   "source": [
    "for key in baron_statistic.keys():\n",
    "    #6, 3\n",
    "    before=[]\n",
    "    #before 10\n",
    "    #v = max(delta[key])/47\n",
    "    v = 1/93\n",
    "    temp=v\n",
    "    for i in range(92):\n",
    "        before.append(temp)\n",
    "        temp+=v\n",
    "\n",
    "    total=before\n",
    "    #total.append(max(delta[key]))\n",
    "    total.append(1)\n",
    "    ti =0\n",
    "    for i in range(len(highlight_delta[key])-92,len(highlight_delta[key])):\n",
    "        if highlight_delta[key][i] < total[ti]:\n",
    "            highlight_delta[key][i] = total[ti]\n",
    "        ti+=1\n"
   ]
  },
  {
   "cell_type": "code",
   "execution_count": null,
   "metadata": {
    "collapsed": true
   },
   "outputs": [],
   "source": [
    "highlight_delta"
   ]
  }
 ],
 "metadata": {
  "kernelspec": {
   "display_name": "Python 3",
   "language": "python",
   "name": "python3"
  },
  "language_info": {
   "codemirror_mode": {
    "name": "ipython",
    "version": 3
   },
   "file_extension": ".py",
   "mimetype": "text/x-python",
   "name": "python",
   "nbconvert_exporter": "python",
   "pygments_lexer": "ipython3",
   "version": "3.6.3"
  }
 },
 "nbformat": 4,
 "nbformat_minor": 2
}
