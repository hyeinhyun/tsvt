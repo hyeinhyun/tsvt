{
 "cells": [
  {
   "cell_type": "code",
   "execution_count": 1,
   "metadata": {
    "collapsed": true
   },
   "outputs": [],
   "source": [
    "import pickle\n",
    "#변화율 데이터 저장\n",
    "with open('highlight_delta.pickle','rb') as f:\n",
    "    delta = pickle.load(f)"
   ]
  },
  {
   "cell_type": "code",
   "execution_count": 2,
   "metadata": {
    "collapsed": true
   },
   "outputs": [],
   "source": [
    "with open('highlight_statistic.pickle','rb') as f:\n",
    "    tdelta = pickle.load(f)"
   ]
  },
  {
   "cell_type": "code",
   "execution_count": 3,
   "metadata": {
    "collapsed": true
   },
   "outputs": [],
   "source": [
    "import pandas as pd"
   ]
  },
  {
   "cell_type": "code",
   "execution_count": 4,
   "metadata": {},
   "outputs": [
    {
     "data": {
      "image/png": "[encoded data removed]",
      "text/plain": [
       "<matplotlib.figure.Figure at 0x7fb1063e8550>"
      ]
     },
     "metadata": {},
     "output_type": "display_data"
    }
   ],
   "source": [
    "from matplotlib import pyplot as plt\n",
    "for key in delta.keys():\n",
    "    plt.plot(delta[key])\n",
    "    plt.show()\n",
    "    break"
   ]
  },
  {
   "cell_type": "code",
   "execution_count": 5,
   "metadata": {
    "collapsed": true
   },
   "outputs": [],
   "source": [
    "for key in delta.keys():\n",
    "    delta[key] = list(map(lambda x : 1 if x>0.0085 else x, delta[key]))"
   ]
  },
  {
   "cell_type": "code",
   "execution_count": 6,
   "metadata": {},
   "outputs": [
    {
     "data": {
      "image/png": "[encoded data removed]",
      "text/plain": [
       "<matplotlib.figure.Figure at 0x7fb101ee3eb8>"
      ]
     },
     "metadata": {},
     "output_type": "display_data"
    }
   ],
   "source": [
    "from matplotlib import pyplot as plt\n",
    "for key in delta.keys():\n",
    "    plt.plot(delta[key])\n",
    "    plt.show()\n",
    "    break"
   ]
  },
  {
   "cell_type": "code",
   "execution_count": 7,
   "metadata": {
    "collapsed": true
   },
   "outputs": [],
   "source": [
    "for key in tdelta.keys():\n",
    "    #print(tdelta[key])\n",
    "    \n",
    "    for index in tdelta[key]:\n",
    "        before=[]\n",
    "        #before 10\n",
    "        v = 1/21\n",
    "        temp=v\n",
    "        for i in range(20):\n",
    "            before.append(temp)\n",
    "            temp+=v\n",
    "        \n",
    "        after=[]\n",
    "        #after 7\n",
    "        v = 1/15\n",
    "        temp=v\n",
    "        for i in range(14):\n",
    "            after.insert(0,temp)\n",
    "            temp+=v\n",
    "        total=before\n",
    "        total.append(1)\n",
    "        total = total+after\n",
    "        ti =0\n",
    "        for i in range(max(0,-20+index),min(len(delta[key]),14+index)):\n",
    "            if delta[key][i] < total[ti]:\n",
    "                delta[key][i] = total[ti]\n",
    "            ti+=1\n",
    "        "
   ]
  },
  {
   "cell_type": "code",
   "execution_count": 8,
   "metadata": {},
   "outputs": [
    {
     "data": {
      "image/png": "[encoded data removed]",
      "text/plain": [
       "<matplotlib.figure.Figure at 0x7fb101f41eb8>"
      ]
     },
     "metadata": {},
     "output_type": "display_data"
    }
   ],
   "source": [
    "from matplotlib import pyplot as plt\n",
    "for key in delta.keys():\n",
    "    plt.plot(delta[key])\n",
    "    plt.show()\n",
    "    break"
   ]
  },
  {
   "cell_type": "code",
   "execution_count": 9,
   "metadata": {
    "collapsed": true
   },
   "outputs": [],
   "source": [
    "import pickle\n",
    "with open('temp_statistic.pickle',\"rb\") as f:\n",
    "    baron_statistic,baron_stack,dragon_statistic,dragon_stack = pickle.load(f)"
   ]
  },
  {
   "cell_type": "code",
   "execution_count": 10,
   "metadata": {},
   "outputs": [
    {
     "data": {
      "text/plain": [
       "{'102844212428895431': [1999],\n",
       " '102844212429092040': [1647],\n",
       " '102844212429288649': [2228, 2641],\n",
       " '102844212429419722': [1433],\n",
       " '102844212429550795': [1238],\n",
       " '102844212429747404': [1621],\n",
       " '102844212429944013': [1866],\n",
       " '102844212430075086': [1379, 1824],\n",
       " '102844212430271695': [1863],\n",
       " '102844212430402768': [2192],\n",
       " '102844212430599377': [1457, 1929],\n",
       " '102844212430730450': [1490, 2346],\n",
       " '102844212430927059': [2240, 2609, 3016, 3612],\n",
       " '102844212431058132': [1901],\n",
       " '102844212431320277': [1988, 2402],\n",
       " '102844212431516886': [1327, 1718],\n",
       " '102844212431779031': [1743],\n",
       " '102844212431975640': [1938],\n",
       " '102844224145685626': [1441],\n",
       " '102844224146472059': [1308],\n",
       " '102844224146930812': [1811, 2288],\n",
       " '102844224147717245': [1488],\n",
       " '102844224148503678': [1869],\n",
       " '102844224148896895': [1575],\n",
       " '102844235746082230': [1833, 2247],\n",
       " '102844235746475447': [2003],\n",
       " '102844235746868664': [1408, 1790],\n",
       " '102844235747261881': [1217],\n",
       " '102844235747982779': [1223, 1650, 2163, 2670],\n",
       " '102844235748310460': [1354, 1855],\n",
       " '102844235748703677': [1375],\n",
       " '102844235749031358': [1384, 1795, 2167],\n",
       " '102844235749424575': [1457, 1856],\n",
       " '102844235750997440': [1324],\n",
       " '102844235751390657': [1600],\n",
       " '102844235751783874': [1661, 2029],\n",
       " '102844235752111555': [1977],\n",
       " '102844235752963525': [1647],\n",
       " '102844235753356742': [1491],\n",
       " '102844235753749959': [1704, 2109],\n",
       " '102844283019929682': [1390],\n",
       " '102844283020453971': [2241, 2658],\n",
       " '102844283022223444': [1246],\n",
       " '102844283022747733': [1283],\n",
       " '102844283023206486': [1606],\n",
       " '102844283023599703': [1348],\n",
       " '102844283024648280': [1621],\n",
       " '102844283025041497': [1469, 1866],\n",
       " '102844283025696858': [1499, 1875, 2248],\n",
       " '102844283026548827': [1425],\n",
       " '102844283027531868': [1435],\n",
       " '102844283027925085': [2103],\n",
       " '102844294666422466': [1442, 1842],\n",
       " '102844294666881219': [1425],\n",
       " '102844294667405508': [1605],\n",
       " '102844294667995333': [1746],\n",
       " '102844294669109446': [1394],\n",
       " '102844294669568199': [1669],\n",
       " '102844294670026952': [1470],\n",
       " '102844294670551241': [],\n",
       " '102844294670878922': [1571, 1997],\n",
       " '102844294671796427': [1702],\n",
       " '102844294674286796': [1421, 1862, 2256],\n",
       " '102844294674876621': [1607],\n",
       " '102844341902586509': [1850],\n",
       " '102844341904683662': [1322, 1759],\n",
       " '102844341905011343': [1275],\n",
       " '102844341905404560': [1656],\n",
       " '102844341906256529': [1432],\n",
       " '102844341906649746': [1745],\n",
       " '102844341906977427': [1593],\n",
       " '102844341907370644': [1343, 1905, 2291],\n",
       " '102844341908026005': [1497, 1911, 2325, 2690],\n",
       " '102844341909598870': [],\n",
       " '102844341912220311': [1447, 1826],\n",
       " '102844341912679064': [1315, 1780],\n",
       " '102844401151219358': [1535],\n",
       " '102844401151874719': [1576, 1984],\n",
       " '102844401152071328': [1397],\n",
       " '102844401152267937': [1639, 2043],\n",
       " '102844401152857762': [],\n",
       " '102844401153447587': [1344],\n",
       " '102844401153578660': [1859, 2244],\n",
       " '102844401153971877': [],\n",
       " '102844401154168486': [1699],\n",
       " '102844401154430631': [1383],\n",
       " '102844401155937960': [1860],\n",
       " '102844401156069033': [1671],\n",
       " '102844412704496937': [1891, 2359],\n",
       " '102844412704890154': [1562, 1964],\n",
       " '102844412705217835': [1790],\n",
       " '102844412705545516': [1231],\n",
       " '102844412706659630': [1414],\n",
       " '102844412706987311': [1333],\n",
       " '102844412707380528': [1219],\n",
       " '102844412707708209': [1659, 2132],\n",
       " '102844412708953395': [1990],\n",
       " '102844412709346612': [1638, 2054, 2450],\n",
       " '102844412709674293': [1689],\n",
       " '102844412710001974': [1526],\n",
       " '102844412711116088': [1562],\n",
       " '102844412711443769': [1402, 2115],\n",
       " '102844412711836986': [1314],\n",
       " '102844412712164667': [1375, 1772],\n",
       " '102844412716227901': [1242, 1639],\n",
       " '102844412716686654': [1381],\n",
       " '102844412717014335': [1442, 1821],\n",
       " '102844412717407552': [1624],\n",
       " '102844412720618818': [2406, 2785],\n",
       " '102844412721012035': [1215],\n",
       " '102844412721339716': [1384, 1768],\n",
       " '102844412722519367': [1564],\n",
       " '102844412722847048': [1506, 1909],\n",
       " '102844412723174729': [1383, 1818],\n",
       " '102844412723567946': [1432, 1891],\n",
       " '102904869420860038': [1555],\n",
       " '102910307641576395': [1418],\n",
       " '102979081290790284': [1542],\n",
       " '102984708146564216': [1453]}"
      ]
     },
     "execution_count": 10,
     "metadata": {},
     "output_type": "execute_result"
    }
   ],
   "source": [
    "baron_statistic"
   ]
  },
  {
   "cell_type": "code",
   "execution_count": 11,
   "metadata": {
    "collapsed": true
   },
   "outputs": [],
   "source": [
    "for key in baron_statistic.keys():\n",
    "    #16,7\n",
    "    for index in baron_statistic[key]:\n",
    "        before=[]\n",
    "        #before 10\n",
    "        #v = max(delta[key])/17\n",
    "        v = 1/33\n",
    "        temp=v\n",
    "        for i in range(32):\n",
    "            before.append(temp)\n",
    "            temp+=v\n",
    "        \n",
    "        after=[]\n",
    "        #after 7\n",
    "        #v = max(delta[key])/8\n",
    "        v = 1/15\n",
    "        temp=v\n",
    "        for i in range(14):\n",
    "            after.insert(0,temp)\n",
    "            temp+=v\n",
    "        total=before\n",
    "        #total.append(max(delta[key]))\n",
    "        total.append(1)\n",
    "        total = total+after\n",
    "        ti =0\n",
    "        for i in range(max(0,-32+index),min(len(delta[key]),14+index)):\n",
    "            if delta[key][i] < total[ti]:\n",
    "                delta[key][i] = total[ti]\n",
    "            ti+=1\n",
    "        "
   ]
  },
  {
   "cell_type": "code",
   "execution_count": 12,
   "metadata": {
    "collapsed": true
   },
   "outputs": [],
   "source": [
    "for key in baron_statistic.keys():\n",
    "    #6, 3\n",
    "    for index in dragon_statistic[key]:\n",
    "        before=[]\n",
    "        #before 10\n",
    "        #v = max(delta[key])/6\n",
    "        v = 1/11\n",
    "        temp=v\n",
    "        for i in range(10):\n",
    "            before.append(temp)\n",
    "            temp+=v\n",
    "        \n",
    "        after=[]\n",
    "        #after 7\n",
    "        #v = max(delta[key])/3\n",
    "        v = 1/5\n",
    "        temp=v\n",
    "        for i in range(4):\n",
    "            after.insert(0,temp)\n",
    "            temp+=v\n",
    "        total=before\n",
    "        #total.append(max(delta[key]))\n",
    "        total.append(1)\n",
    "        total = total+after\n",
    "        ti =0\n",
    "        for i in range(max(0,-10+index),min(len(delta[key]),4+index)):\n",
    "            if delta[key][i] < total[ti]:\n",
    "                delta[key][i] = total[ti]\n",
    "            ti+=1\n",
    "        "
   ]
  },
  {
   "cell_type": "code",
   "execution_count": 13,
   "metadata": {},
   "outputs": [
    {
     "data": {
      "image/png": "[encoded data removed]",
      "text/plain": [
       "<matplotlib.figure.Figure at 0x7fb101efaa58>"
      ]
     },
     "metadata": {},
     "output_type": "display_data"
    }
   ],
   "source": [
    "from matplotlib import pyplot as plt\n",
    "for key in delta.keys():\n",
    "    plt.plot(delta[key])\n",
    "    plt.show()\n",
    "    break"
   ]
  },
  {
   "cell_type": "code",
   "execution_count": 14,
   "metadata": {
    "collapsed": true
   },
   "outputs": [],
   "source": [
    "for key in baron_statistic.keys():\n",
    "    #6, 3\n",
    "    before=[]\n",
    "    #before 10\n",
    "    #v = max(delta[key])/47\n",
    "    v = 1/93\n",
    "    temp=v\n",
    "    for i in range(92):\n",
    "        before.append(temp)\n",
    "        temp+=v\n",
    "\n",
    "    total=before\n",
    "    #total.append(max(delta[key]))\n",
    "    total.append(1)\n",
    "    ti =0\n",
    "    for i in range(len(delta[key])-92,len(delta[key])):\n",
    "        if delta[key][i] < total[ti]:\n",
    "            delta[key][i] = total[ti]\n",
    "        ti+=1\n"
   ]
  },
  {
   "cell_type": "code",
   "execution_count": 15,
   "metadata": {
    "scrolled": false
   },
   "outputs": [
    {
     "data": {
      "image/png": "[encoded data removed]",
      "text/plain": [
       "<matplotlib.figure.Figure at 0x7fb1018cf898>"
      ]
     },
     "metadata": {},
     "output_type": "display_data"
    }
   ],
   "source": [
    "from matplotlib import pyplot as plt\n",
    "for key in delta.keys():\n",
    "    plt.plot(delta[key])\n",
    "    plt.show()\n",
    "    break"
   ]
  },
  {
   "cell_type": "code",
   "execution_count": 16,
   "metadata": {
    "collapsed": true
   },
   "outputs": [],
   "source": [
    "\n",
    "with open('/home/ubuntu/gangmin/tsvt/multimodal/data/video_statistic_features_one2.pickle','wb') as f:\n",
    "    pickle.dump(delta,f)"
   ]
  },
  {
   "cell_type": "code",
   "execution_count": null,
   "metadata": {
    "collapsed": true
   },
   "outputs": [],
   "source": []
  }
 ],
 "metadata": {
  "kernelspec": {
   "display_name": "Python 3",
   "language": "python",
   "name": "python3"
  },
  "language_info": {
   "codemirror_mode": {
    "name": "ipython",
    "version": 3
   },
   "file_extension": ".py",
   "mimetype": "text/x-python",
   "name": "python",
   "nbconvert_exporter": "python",
   "pygments_lexer": "ipython3",
   "version": "3.6.3"
  }
 },
 "nbformat": 4,
 "nbformat_minor": 2
}
